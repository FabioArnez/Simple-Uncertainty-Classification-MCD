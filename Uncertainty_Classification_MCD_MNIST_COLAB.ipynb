{
  "nbformat": 4,
  "nbformat_minor": 0,
  "metadata": {
    "kernelspec": {
      "display_name": "Python 3",
      "language": "python",
      "name": "python3"
    },
    "language_info": {
      "codemirror_mode": {
        "name": "ipython",
        "version": 3
      },
      "file_extension": ".py",
      "mimetype": "text/x-python",
      "name": "python",
      "nbconvert_exporter": "python",
      "pygments_lexer": "ipython3",
      "version": "3.7.6"
    },
    "toc": {
      "base_numbering": 1,
      "nav_menu": {},
      "number_sections": true,
      "sideBar": true,
      "skip_h1_title": false,
      "title_cell": "Table of Contents",
      "title_sidebar": "Contents",
      "toc_cell": false,
      "toc_position": {},
      "toc_section_display": true,
      "toc_window_display": false
    },
    "colab": {
      "name": "Uncertainty_Classification_MCD_MNIST.ipynb",
      "provenance": [],
      "collapsed_sections": [],
      "toc_visible": true,
      "include_colab_link": true
    },
    "accelerator": "GPU"
  },
  "cells": [
    {
      "cell_type": "markdown",
      "metadata": {
        "id": "view-in-github",
        "colab_type": "text"
      },
      "source": [
        "<a href=\"https://colab.research.google.com/github/FabioArnez/Simple-Uncertainty-Classification-MCD/blob/master/Uncertainty_Classification_MCD_MNIST_COLAB.ipynb\" target=\"_parent\"><img src=\"https://colab.research.google.com/assets/colab-badge.svg\" alt=\"Open In Colab\"/></a>"
      ]
    },
    {
      "cell_type": "markdown",
      "metadata": {
        "id": "EuU0exoMugAS"
      },
      "source": [
        "# Uncertainty Classification MCD MNIST"
      ]
    },
    {
      "cell_type": "markdown",
      "metadata": {
        "id": "eDnAfaE8v2tH"
      },
      "source": [
        "## Check Colab Environment Settings:"
      ]
    },
    {
      "cell_type": "markdown",
      "metadata": {
        "id": "zvqi0Mmzw-GY"
      },
      "source": [
        "__Check GPU availability__"
      ]
    },
    {
      "cell_type": "code",
      "metadata": {
        "colab": {
          "base_uri": "https://localhost:8080/"
        },
        "id": "Kbi2ipzxv1q0",
        "outputId": "31a8207d-fd03-4a36-fab3-4b285848c690"
      },
      "source": [
        "!nvidia-smi -L"
      ],
      "execution_count": 2,
      "outputs": [
        {
          "output_type": "stream",
          "name": "stdout",
          "text": [
            "GPU 0: Tesla K80 (UUID: GPU-dc8b2566-a1c7-9829-9774-3eaeecda409f)\n"
          ]
        }
      ]
    },
    {
      "cell_type": "markdown",
      "metadata": {
        "id": "JoYnafLMugAU"
      },
      "source": [
        "## Notebook Imports"
      ]
    },
    {
      "cell_type": "code",
      "metadata": {
        "ExecuteTime": {
          "end_time": "2020-02-13T08:53:53.648308Z",
          "start_time": "2020-02-13T08:53:52.810802Z"
        },
        "id": "Nnuyu_pAugAW"
      },
      "source": [
        "import numpy as np\n",
        "import torch\n",
        "import torch.nn as nn\n",
        "import torch.nn.functional as F\n",
        "import torchvision\n",
        "import torchvision.transforms as transforms\n",
        "import matplotlib.pyplot as plt\n",
        "import numpy as np\n",
        "from torch.utils.data.sampler import SubsetRandomSampler\n",
        "from torchsummary import summary"
      ],
      "execution_count": 32,
      "outputs": []
    },
    {
      "cell_type": "markdown",
      "metadata": {
        "id": "J_iDJJpUwVsL"
      },
      "source": [
        "__Check PyTorch Version__"
      ]
    },
    {
      "cell_type": "code",
      "metadata": {
        "colab": {
          "base_uri": "https://localhost:8080/",
          "height": 35
        },
        "id": "-njrNuSpwQAo",
        "outputId": "fe97fd16-7214-438b-e3dd-8ab1dde46a26"
      },
      "source": [
        "torch.__version__"
      ],
      "execution_count": 4,
      "outputs": [
        {
          "output_type": "execute_result",
          "data": {
            "application/vnd.google.colaboratory.intrinsic+json": {
              "type": "string"
            },
            "text/plain": [
              "'1.9.0+cu102'"
            ]
          },
          "metadata": {},
          "execution_count": 4
        }
      ]
    },
    {
      "cell_type": "markdown",
      "metadata": {
        "heading_collapsed": true,
        "id": "Rcu1FqtpugAX"
      },
      "source": [
        "## MNIST Data"
      ]
    },
    {
      "cell_type": "markdown",
      "metadata": {
        "id": "HBDxr7nj2zps"
      },
      "source": [
        "### Data Loader Settings"
      ]
    },
    {
      "cell_type": "code",
      "metadata": {
        "ExecuteTime": {
          "end_time": "2020-02-13T08:54:05.352206Z",
          "start_time": "2020-02-13T08:54:05.344251Z"
        },
        "id": "-zn3UzaWugAX"
      },
      "source": [
        "# number of subprocesses for data loading\n",
        "num_workers = 2\n",
        "# how many samples (images) per batch\n",
        "batch_size = 32\n",
        "# percentage of training set to use as validation\n",
        "valid_size = 0.2\n",
        "# train-validation-testing split random seed\n",
        "dataset_split_seed = 10"
      ],
      "execution_count": 5,
      "outputs": []
    },
    {
      "cell_type": "markdown",
      "metadata": {
        "id": "4b_Nffk128TJ"
      },
      "source": [
        "### Get MNIST dataset\n",
        "  1. Get training data\n",
        "  2. Get testing data"
      ]
    },
    {
      "cell_type": "code",
      "metadata": {
        "ExecuteTime": {
          "end_time": "2020-02-13T08:54:06.726766Z",
          "start_time": "2020-02-13T08:54:06.671880Z"
        },
        "hidden": true,
        "id": "D-G27bLLugAY"
      },
      "source": [
        "# convert data to torch.FloatTensor\n",
        "transform = transforms.ToTensor()\n",
        "# choose the training and test datasets\n",
        "train_data = torchvision.datasets.MNIST(root='../data', train=True,\n",
        "                               download=True, transform=transform)\n",
        "test_data = torchvision.datasets.MNIST(root='../data', train=False,\n",
        "                              download=True, transform=transform)"
      ],
      "execution_count": 9,
      "outputs": []
    },
    {
      "cell_type": "code",
      "metadata": {
        "colab": {
          "base_uri": "https://localhost:8080/"
        },
        "id": "V-whyQfD3ns-",
        "outputId": "d3ab546f-4d15-4b09-d0ae-d13f3e6ec1b8"
      },
      "source": [
        "train_data"
      ],
      "execution_count": 10,
      "outputs": [
        {
          "output_type": "execute_result",
          "data": {
            "text/plain": [
              "Dataset MNIST\n",
              "    Number of datapoints: 60000\n",
              "    Root location: ../data\n",
              "    Split: Train\n",
              "    StandardTransform\n",
              "Transform: ToTensor()"
            ]
          },
          "metadata": {},
          "execution_count": 10
        }
      ]
    },
    {
      "cell_type": "code",
      "metadata": {
        "colab": {
          "base_uri": "https://localhost:8080/"
        },
        "id": "0E_rRMKL3yqq",
        "outputId": "3c585a1d-5ae2-4ea6-9998-a702f45f3da9"
      },
      "source": [
        "test_data"
      ],
      "execution_count": 11,
      "outputs": [
        {
          "output_type": "execute_result",
          "data": {
            "text/plain": [
              "Dataset MNIST\n",
              "    Number of datapoints: 10000\n",
              "    Root location: ../data\n",
              "    Split: Test\n",
              "    StandardTransform\n",
              "Transform: ToTensor()"
            ]
          },
          "metadata": {},
          "execution_count": 11
        }
      ]
    },
    {
      "cell_type": "markdown",
      "metadata": {
        "id": "ZamuJtK_4Ceo"
      },
      "source": [
        "###  Split the MNIST Dataset\n",
        "\n",
        "-  Split training data into:\n",
        "    1. train set\n",
        "    2. validation set"
      ]
    },
    {
      "cell_type": "markdown",
      "metadata": {
        "id": "8XN9OuIT7Oul"
      },
      "source": [
        "__obtain training indices that will be used for validation__"
      ]
    },
    {
      "cell_type": "code",
      "metadata": {
        "id": "R1HqIrua5lG_"
      },
      "source": [
        "num_train = len(train_data)\n",
        "indices = list(range(num_train))\n",
        "dataset_split_seed = 10\n",
        "np.random.seed(dataset_split_seed)\n",
        "np.random.shuffle(indices)\n",
        "\n",
        "split = int(np.floor(valid_size * num_train))\n",
        "train_idx, valid_idx = indices[split:], indices[:split]\n"
      ],
      "execution_count": 12,
      "outputs": []
    },
    {
      "cell_type": "code",
      "metadata": {
        "colab": {
          "base_uri": "https://localhost:8080/"
        },
        "id": "pDOTWEQD6W-l",
        "outputId": "293b152c-ab7d-4354-e09c-c75027a4f2f9"
      },
      "source": [
        "print(\"Samples Training Data: \", len(train_data))\n",
        "print(\"Samples New Training set: \", len(train_idx))\n",
        "print(\"Samples New Validation set: \", len(valid_idx))"
      ],
      "execution_count": 13,
      "outputs": [
        {
          "output_type": "stream",
          "name": "stdout",
          "text": [
            "Samples Training Data:  60000\n",
            "Samples New Training set:  48000\n",
            "Samples New Validation set:  12000\n"
          ]
        }
      ]
    },
    {
      "cell_type": "markdown",
      "metadata": {
        "id": "79wxKRak7DY1"
      },
      "source": [
        "__Show the first 10 indices from training set__"
      ]
    },
    {
      "cell_type": "code",
      "metadata": {
        "colab": {
          "base_uri": "https://localhost:8080/"
        },
        "id": "AVrVCG1Y59ce",
        "outputId": "ea69053a-284a-48ef-d9bb-04a1b11499c3"
      },
      "source": [
        "train_idx[0:10]"
      ],
      "execution_count": 14,
      "outputs": [
        {
          "output_type": "execute_result",
          "data": {
            "text/plain": [
              "[47819, 40933, 10130, 40589, 20862, 30446, 35098, 53916, 45345, 56376]"
            ]
          },
          "metadata": {},
          "execution_count": 14
        }
      ]
    },
    {
      "cell_type": "markdown",
      "metadata": {
        "id": "ayIqbSfL7UXU"
      },
      "source": [
        "__Get subset samplers for obtaining the new training and validation sets__"
      ]
    },
    {
      "cell_type": "code",
      "metadata": {
        "ExecuteTime": {
          "end_time": "2020-02-13T08:54:07.325505Z",
          "start_time": "2020-02-13T08:54:07.281524Z"
        },
        "hidden": true,
        "id": "mKD2DfquugAY"
      },
      "source": [
        "# define samplers for obtaining training and validation batches\n",
        "train_sampler = SubsetRandomSampler(train_idx)\n",
        "valid_sampler = SubsetRandomSampler(valid_idx)"
      ],
      "execution_count": 15,
      "outputs": []
    },
    {
      "cell_type": "markdown",
      "metadata": {
        "id": "gJ5n008l7o98"
      },
      "source": [
        "### Get the Dataloaders\n",
        "\n",
        "1. train loader\n",
        "2. validation loader\n",
        "3. test loader"
      ]
    },
    {
      "cell_type": "code",
      "metadata": {
        "id": "e44tKZDr7m8_"
      },
      "source": [
        "# prepare data loaders\n",
        "train_loader = torch.utils.data.DataLoader(train_data, batch_size=batch_size,\n",
        "    sampler=train_sampler, num_workers=num_workers)\n",
        "\n",
        "valid_loader = torch.utils.data.DataLoader(train_data, batch_size=batch_size, \n",
        "    sampler=valid_sampler, num_workers=num_workers)\n",
        "\n",
        "test_loader = torch.utils.data.DataLoader(test_data, batch_size=batch_size, \n",
        "    num_workers=num_workers)"
      ],
      "execution_count": 16,
      "outputs": []
    },
    {
      "cell_type": "code",
      "metadata": {
        "colab": {
          "base_uri": "https://localhost:8080/"
        },
        "id": "b7fDYZlYL4K4",
        "outputId": "7e292dca-8307-4f0d-81d4-78dfa18bd97b"
      },
      "source": [
        "len(train_loader.dataset)"
      ],
      "execution_count": 17,
      "outputs": [
        {
          "output_type": "execute_result",
          "data": {
            "text/plain": [
              "60000"
            ]
          },
          "metadata": {},
          "execution_count": 17
        }
      ]
    },
    {
      "cell_type": "code",
      "metadata": {
        "colab": {
          "base_uri": "https://localhost:8080/"
        },
        "id": "Pk6qBTA7Lkt7",
        "outputId": "fd3d78a1-dff2-4f40-91be-0727fc007ed6"
      },
      "source": [
        "train_loader.dataset"
      ],
      "execution_count": 18,
      "outputs": [
        {
          "output_type": "execute_result",
          "data": {
            "text/plain": [
              "Dataset MNIST\n",
              "    Number of datapoints: 60000\n",
              "    Root location: ../data\n",
              "    Split: Train\n",
              "    StandardTransform\n",
              "Transform: ToTensor()"
            ]
          },
          "metadata": {},
          "execution_count": 18
        }
      ]
    },
    {
      "cell_type": "code",
      "metadata": {
        "colab": {
          "base_uri": "https://localhost:8080/"
        },
        "id": "9fEHTUo9Ln1g",
        "outputId": "f148b475-e399-41d2-f23b-2cf7f758e07f"
      },
      "source": [
        "valid_loader.dataset"
      ],
      "execution_count": 19,
      "outputs": [
        {
          "output_type": "execute_result",
          "data": {
            "text/plain": [
              "Dataset MNIST\n",
              "    Number of datapoints: 60000\n",
              "    Root location: ../data\n",
              "    Split: Train\n",
              "    StandardTransform\n",
              "Transform: ToTensor()"
            ]
          },
          "metadata": {},
          "execution_count": 19
        }
      ]
    },
    {
      "cell_type": "code",
      "metadata": {
        "colab": {
          "base_uri": "https://localhost:8080/"
        },
        "id": "FQQf0ABJLoYQ",
        "outputId": "624a3e58-a74f-4515-99c9-d3dcb8e4a4c0"
      },
      "source": [
        "len(valid_loader)"
      ],
      "execution_count": 20,
      "outputs": [
        {
          "output_type": "execute_result",
          "data": {
            "text/plain": [
              "375"
            ]
          },
          "metadata": {},
          "execution_count": 20
        }
      ]
    },
    {
      "cell_type": "markdown",
      "metadata": {
        "heading_collapsed": true,
        "id": "VZVgFB8QugAZ"
      },
      "source": [
        "### Batch Inspection"
      ]
    },
    {
      "cell_type": "markdown",
      "metadata": {
        "hidden": true,
        "id": "bKK909KPugAZ"
      },
      "source": [
        "__Train Loader Number of Batches__"
      ]
    },
    {
      "cell_type": "code",
      "metadata": {
        "ExecuteTime": {
          "end_time": "2020-02-12T23:02:06.176535Z",
          "start_time": "2020-02-12T23:02:06.142710Z"
        },
        "hidden": true,
        "id": "b1k_owrcugAZ",
        "colab": {
          "base_uri": "https://localhost:8080/"
        },
        "outputId": "6a20ce37-d840-4f8c-d9d1-01bb258da511"
      },
      "source": [
        "Batches = len(train_loader)\n",
        "Batches"
      ],
      "execution_count": 23,
      "outputs": [
        {
          "output_type": "execute_result",
          "data": {
            "text/plain": [
              "1500"
            ]
          },
          "metadata": {},
          "execution_count": 23
        }
      ]
    },
    {
      "cell_type": "code",
      "metadata": {
        "ExecuteTime": {
          "end_time": "2020-02-12T20:12:41.629095Z",
          "start_time": "2020-02-12T20:12:41.619360Z"
        },
        "hidden": true,
        "scrolled": true,
        "id": "UE75RQPEugAa",
        "colab": {
          "base_uri": "https://localhost:8080/"
        },
        "outputId": "fce98db2-8e10-45d9-879b-e254f946b2e7"
      },
      "source": [
        "len(train_loader.sampler)"
      ],
      "execution_count": 24,
      "outputs": [
        {
          "output_type": "execute_result",
          "data": {
            "text/plain": [
              "48000"
            ]
          },
          "metadata": {},
          "execution_count": 24
        }
      ]
    },
    {
      "cell_type": "code",
      "metadata": {
        "ExecuteTime": {
          "end_time": "2020-02-12T21:22:58.360798Z",
          "start_time": "2020-02-12T21:22:58.340288Z"
        },
        "hidden": true,
        "id": "Ai4CoW5EugAb"
      },
      "source": [
        "dataiter = iter(train_loader)\n",
        "batch_data, labels = dataiter.next()"
      ],
      "execution_count": 25,
      "outputs": []
    },
    {
      "cell_type": "code",
      "metadata": {
        "ExecuteTime": {
          "end_time": "2020-02-12T21:23:07.212967Z",
          "start_time": "2020-02-12T21:23:07.209422Z"
        },
        "hidden": true,
        "id": "r84tkKdPugAb",
        "colab": {
          "base_uri": "https://localhost:8080/"
        },
        "outputId": "ddd3271e-3269-4ed3-bb94-be7d11cd5970"
      },
      "source": [
        "batch_data.size()"
      ],
      "execution_count": 26,
      "outputs": [
        {
          "output_type": "execute_result",
          "data": {
            "text/plain": [
              "torch.Size([32, 1, 28, 28])"
            ]
          },
          "metadata": {},
          "execution_count": 26
        }
      ]
    },
    {
      "cell_type": "code",
      "metadata": {
        "ExecuteTime": {
          "end_time": "2020-02-12T21:23:07.766908Z",
          "start_time": "2020-02-12T21:23:07.759302Z"
        },
        "hidden": true,
        "id": "dAfv7ld_ugAb",
        "colab": {
          "base_uri": "https://localhost:8080/"
        },
        "outputId": "4efcedd9-7072-4c71-90fd-663e0a770164"
      },
      "source": [
        "batch_data.size(0)"
      ],
      "execution_count": 27,
      "outputs": [
        {
          "output_type": "execute_result",
          "data": {
            "text/plain": [
              "32"
            ]
          },
          "metadata": {},
          "execution_count": 27
        }
      ]
    },
    {
      "cell_type": "markdown",
      "metadata": {
        "id": "obxhuIlyT6zh"
      },
      "source": [
        "## Training Routines"
      ]
    },
    {
      "cell_type": "markdown",
      "metadata": {
        "id": "BghT_hg3UPgF"
      },
      "source": [
        "### Train"
      ]
    },
    {
      "cell_type": "code",
      "metadata": {
        "id": "msYxn2AGOKu3"
      },
      "source": [
        "def TrainModel(model, device, train_loader, lossFunction, optimizer):\n",
        "    sum_traning_batches_avg_loss = 0.0\n",
        "    # Enable train mode\n",
        "    model.train()\n",
        "\n",
        "    for data, target in train_loader:\n",
        "        data, target = data.to(device), target.to(device)\n",
        "        optimizer.zero_grad()\n",
        "        output = model(data)\n",
        "        loss = lossFunction(output, target)\n",
        "        loss.backward()\n",
        "        optimizer.step()\n",
        "        # update running training loss\n",
        "        sum_traning_batches_avg_loss += loss.item() # sum up batch loss\n",
        "\n",
        "    return sum_traning_batches_avg_loss"
      ],
      "execution_count": 36,
      "outputs": []
    },
    {
      "cell_type": "markdown",
      "metadata": {
        "id": "3XdRAY_vUTUS"
      },
      "source": [
        "### Validate"
      ]
    },
    {
      "cell_type": "code",
      "metadata": {
        "id": "W6pNC6VROV3I"
      },
      "source": [
        "def ValidateModel(model, device, valid_loader, lossFunction):\n",
        "    sum_valid_batches_avg_loss = 0.0\n",
        "    # Enable train mode\n",
        "    model.eval()\n",
        "\n",
        "    with torch.no_grad():\n",
        "        for data, target in valid_loader:\n",
        "            data, target = data.to(device), target.to(device)\n",
        "            output = model(data)\n",
        "            loss = lossFunction(output, target)\n",
        "            # update running evaluation loss\n",
        "            sum_valid_batches_avg_loss += loss.item()  # sum up batch loss\n",
        "\n",
        "    return sum_valid_batches_avg_loss"
      ],
      "execution_count": 37,
      "outputs": []
    },
    {
      "cell_type": "markdown",
      "metadata": {
        "id": "vPkMXs0ZUYtB"
      },
      "source": [
        "### Train Test Function"
      ]
    },
    {
      "cell_type": "code",
      "metadata": {
        "id": "QATmfUWeOo-l"
      },
      "source": [
        "def TrainValidNeuralNet(model, train_loader, valid_loader, num_epochs):\n",
        "    # Device configuration\n",
        "    device = torch.device('cuda' if torch.cuda.is_available() else 'cpu')\n",
        "    print()    \n",
        "    print(\"We are using {}, for training!\".format(device))\n",
        "    print()\n",
        "    # send nn model to GPU\n",
        "    model.to(device)\n",
        "    # specify loss function (categorical cross-entropy)\n",
        "    # lossFunction = nn.CrossEntropyLoss()\n",
        "    lossFunction = nn.NLLLoss()\n",
        "    # specify optimizer\n",
        "    learning_rate = 0.01\n",
        "    # specify optimizer (stochastic gradient descent) and learning rate = 0.01\n",
        "    # optimizer = torch.optim.Adam(model.parameters(), lr=learning_rate)\n",
        "    optimizer = torch.optim.SGD(model.parameters(), lr=learning_rate)\n",
        "\n",
        "    epoch_avg_train_losses, epoch_avg_eval_losses = [], []\n",
        "\n",
        "    for epoch in range(1, num_epochs + 1):\n",
        "        sum_traning_batches_avg_loss = 0.0\n",
        "        sum_valid_batches_avg_loss = 0.0\n",
        "\n",
        "        ###################\n",
        "        # train the model #\n",
        "        ###################\n",
        "        sum_traning_batches_avg_loss = TrainModel(model, device, train_loader, lossFunction, optimizer)\n",
        "        ######################    \n",
        "        # validate the model #\n",
        "        ######################\n",
        "        sum_valid_batches_avg_loss = ValidateModel(model, device, valid_loader, lossFunction)\n",
        "\n",
        "        # Get epoch average loss\n",
        "        epoch_avg_train_loss = sum_traning_batches_avg_loss / len(train_loader)\n",
        "        epoch_avg_valid_loss = sum_valid_batches_avg_loss / len(valid_loader)\n",
        "\n",
        "        # append epoch average losses\n",
        "        epoch_avg_train_losses.append(epoch_avg_train_loss)\n",
        "        epoch_avg_eval_losses.append(epoch_avg_valid_loss)\n",
        "\n",
        "        print(\"Epoch: {}/{}.. \".format(epoch, num_epochs),\n",
        "          \"Avg. Training Loss: {:.3f}.. \".format(epoch_avg_train_loss),\n",
        "          \"Avg. Validation Loss: {:.3f}.. \".format(epoch_avg_valid_loss))\n",
        "\n",
        "    return epoch_avg_train_losses, epoch_avg_eval_losses"
      ],
      "execution_count": 43,
      "outputs": []
    },
    {
      "cell_type": "markdown",
      "metadata": {
        "id": "KYi_2rjXugAc"
      },
      "source": [
        "## Simple Neural Network with Droput"
      ]
    },
    {
      "cell_type": "markdown",
      "metadata": {
        "heading_collapsed": true,
        "id": "NP1jw6_hugAc"
      },
      "source": [
        "### Create Neural Network Model"
      ]
    },
    {
      "cell_type": "code",
      "metadata": {
        "id": "uPHjlC0JMeJV"
      },
      "source": [
        "class FullyConnectedNet(nn.Module):\n",
        "    def __init__(self):\n",
        "        super().__init__()\n",
        "        self.fc1 = nn.Linear(784, 512)\n",
        "        self.fc2 = nn.Linear(512, 256)\n",
        "        self.fc3 = nn.Linear(256, 128)\n",
        "        self.fc4 = nn.Linear(128, 64)\n",
        "        self.fc5 = nn.Linear(64, 10)\n",
        "        # Dropout module with 0.2 drop probability\n",
        "        self.dropout = nn.Dropout(p=0.2)\n",
        "\n",
        "    def forward(self, x):\n",
        "        # # flatten image input\n",
        "        x = x.view(-1, 28 * 28)\n",
        "        # Now with dropout\n",
        "        x = F.relu(self.fc1(x))\n",
        "        x = F.relu(self.fc2(x))\n",
        "        x = F.relu(self.fc3(x))\n",
        "        x = F.relu(self.fc4(x))\n",
        "        x = self.fc5(x)\n",
        "        output = F.log_softmax(x, dim=1)\n",
        "        return output"
      ],
      "execution_count": 46,
      "outputs": []
    },
    {
      "cell_type": "code",
      "metadata": {
        "ExecuteTime": {
          "end_time": "2020-02-13T08:54:13.171246Z",
          "start_time": "2020-02-13T08:54:13.148764Z"
        },
        "hidden": true,
        "id": "2GKzex5kugAd",
        "colab": {
          "base_uri": "https://localhost:8080/"
        },
        "outputId": "0828d727-3089-4ec2-f6a4-4ef872bfa59e"
      },
      "source": [
        "# initialize the NN\n",
        "model = FullyConnectedNet()\n",
        "print(model)"
      ],
      "execution_count": 47,
      "outputs": [
        {
          "output_type": "stream",
          "name": "stdout",
          "text": [
            "FullyConnectedNet(\n",
            "  (fc1): Linear(in_features=784, out_features=512, bias=True)\n",
            "  (fc2): Linear(in_features=512, out_features=256, bias=True)\n",
            "  (fc3): Linear(in_features=256, out_features=128, bias=True)\n",
            "  (fc4): Linear(in_features=128, out_features=64, bias=True)\n",
            "  (fc5): Linear(in_features=64, out_features=10, bias=True)\n",
            "  (dropout): Dropout(p=0.2, inplace=False)\n",
            ")\n"
          ]
        }
      ]
    },
    {
      "cell_type": "markdown",
      "metadata": {
        "heading_collapsed": true,
        "id": "X8RU9jVGugAd"
      },
      "source": [
        "### Train & Evaluate Neural Network"
      ]
    },
    {
      "cell_type": "code",
      "metadata": {
        "ExecuteTime": {
          "end_time": "2020-02-13T08:57:45.322587Z",
          "start_time": "2020-02-13T08:54:28.446353Z"
        },
        "hidden": true,
        "scrolled": false,
        "id": "4AbzzKTEugAd",
        "colab": {
          "base_uri": "https://localhost:8080/"
        },
        "outputId": "c2443d4f-e1cb-404d-c70b-139aa347dc8f"
      },
      "source": [
        "epoch_train_losses, epoch_eval_losses = [], []\n",
        "epoch_train_losses, epoch_eval_losses = TrainValidNeuralNet(model, train_loader, valid_loader, 5)"
      ],
      "execution_count": 45,
      "outputs": [
        {
          "output_type": "stream",
          "name": "stdout",
          "text": [
            "\n",
            "We are using cuda, for training!\n",
            "\n",
            "Epoch: 1/5..  Avg. Training Loss: 0.059..  Avg. Validation Loss: 0.091.. \n",
            "Epoch: 2/5..  Avg. Training Loss: 0.054..  Avg. Validation Loss: 0.084.. \n",
            "Epoch: 3/5..  Avg. Training Loss: 0.050..  Avg. Validation Loss: 0.082.. \n",
            "Epoch: 4/5..  Avg. Training Loss: 0.046..  Avg. Validation Loss: 0.083.. \n",
            "Epoch: 5/5..  Avg. Training Loss: 0.044..  Avg. Validation Loss: 0.082.. \n"
          ]
        }
      ]
    },
    {
      "cell_type": "markdown",
      "metadata": {
        "hidden": true,
        "id": "yWpMsGqFugAd"
      },
      "source": [
        "__Save de Model__"
      ]
    },
    {
      "cell_type": "code",
      "metadata": {
        "ExecuteTime": {
          "end_time": "2020-02-13T09:04:39.528115Z",
          "start_time": "2020-02-13T09:04:39.482605Z"
        },
        "hidden": true,
        "id": "gNPLD68UugAd"
      },
      "source": [
        "torch.save(model.state_dict(), 'model.pt')"
      ],
      "execution_count": 48,
      "outputs": []
    },
    {
      "cell_type": "markdown",
      "metadata": {
        "id": "1Hmc_M5YugAe"
      },
      "source": [
        "### Plot Training and Validation Loss"
      ]
    },
    {
      "cell_type": "code",
      "metadata": {
        "ExecuteTime": {
          "end_time": "2020-02-13T08:57:49.149775Z",
          "start_time": "2020-02-13T08:57:49.133292Z"
        },
        "id": "3DzsH_GRugAe"
      },
      "source": [
        "%matplotlib inline\n",
        "import matplotlib.pyplot as plt"
      ],
      "execution_count": 49,
      "outputs": []
    },
    {
      "cell_type": "code",
      "metadata": {
        "ExecuteTime": {
          "end_time": "2020-02-13T09:04:49.103458Z",
          "start_time": "2020-02-13T09:04:48.978748Z"
        },
        "id": "RWyc2mGGugAe",
        "colab": {
          "base_uri": "https://localhost:8080/",
          "height": 265
        },
        "outputId": "385538b1-152d-4d9d-a9ae-6f6c939b9fc1"
      },
      "source": [
        "plt.plot(epoch_train_losses, label='Training loss')\n",
        "plt.plot(epoch_eval_losses, label='Validation loss')\n",
        "plt.legend(frameon=False)\n",
        "plt.show()"
      ],
      "execution_count": 50,
      "outputs": [
        {
          "output_type": "display_data",
          "data": {
            "image/png": "[encoded data removed]",
            "text/plain": [
              "<Figure size 432x288 with 1 Axes>"
            ]
          },
          "metadata": {
            "needs_background": "light"
          }
        }
      ]
    },
    {
      "cell_type": "markdown",
      "metadata": {
        "id": "7yxMcZUbugAe"
      },
      "source": [
        "## Simple Neural Network with Dropout (MCD)"
      ]
    },
    {
      "cell_type": "markdown",
      "metadata": {
        "heading_collapsed": true,
        "id": "ZTINMgobugAe"
      },
      "source": [
        "### Create Neural Network Model Dropout"
      ]
    },
    {
      "cell_type": "code",
      "metadata": {
        "hidden": true,
        "id": "72TFMY6GugAe",
        "colab": {
          "base_uri": "https://localhost:8080/"
        },
        "outputId": "337a65db-d327-4838-93e5-5939ac7dd5e0"
      },
      "source": [
        "# initialize the NN\n",
        "model_dropout = FullyConnectedNetDropOut()\n",
        "print(model)"
      ],
      "execution_count": 51,
      "outputs": [
        {
          "output_type": "stream",
          "name": "stdout",
          "text": [
            "FullyConnectedNet(\n",
            "  (fc1): Linear(in_features=784, out_features=512, bias=True)\n",
            "  (fc2): Linear(in_features=512, out_features=256, bias=True)\n",
            "  (fc3): Linear(in_features=256, out_features=128, bias=True)\n",
            "  (fc4): Linear(in_features=128, out_features=64, bias=True)\n",
            "  (fc5): Linear(in_features=64, out_features=10, bias=True)\n",
            "  (dropout): Dropout(p=0.2, inplace=False)\n",
            ")\n"
          ]
        }
      ]
    },
    {
      "cell_type": "markdown",
      "metadata": {
        "id": "UcLE7r3sUmCU"
      },
      "source": [
        "### Train & Evaluate Neural Network"
      ]
    },
    {
      "cell_type": "code",
      "metadata": {
        "scrolled": true,
        "id": "s7R5exFfugAf",
        "colab": {
          "base_uri": "https://localhost:8080/"
        },
        "outputId": "b8619a7a-afc5-4823-f41d-118ac03eced9"
      },
      "source": [
        "epoch_train_losses, epoch_eval_losses = [], []\n",
        "epoch_train_losses, epoch_eval_losses = TrainValidNeuralNet(model_dropout, train_loader, valid_loader, 5)"
      ],
      "execution_count": 54,
      "outputs": [
        {
          "output_type": "stream",
          "name": "stdout",
          "text": [
            "\n",
            "We are using cuda, for training!\n",
            "\n",
            "Epoch: 1/5..  Avg. Training Loss: 1.071..  Avg. Validation Loss: 0.537.. \n",
            "Epoch: 2/5..  Avg. Training Loss: 0.513..  Avg. Validation Loss: 0.340.. \n",
            "Epoch: 3/5..  Avg. Training Loss: 0.372..  Avg. Validation Loss: 0.262.. \n",
            "Epoch: 4/5..  Avg. Training Loss: 0.287..  Avg. Validation Loss: 0.212.. \n",
            "Epoch: 5/5..  Avg. Training Loss: 0.233..  Avg. Validation Loss: 0.175.. \n"
          ]
        }
      ]
    },
    {
      "cell_type": "markdown",
      "metadata": {
        "id": "fgXiMlDeugAf"
      },
      "source": [
        "__Save the model__"
      ]
    },
    {
      "cell_type": "code",
      "metadata": {
        "id": "DUl6-Q_augAf"
      },
      "source": [
        "torch.save(model.state_dict(), 'model-dropout.pt')"
      ],
      "execution_count": 34,
      "outputs": []
    },
    {
      "cell_type": "markdown",
      "metadata": {
        "id": "bQSK6XwougAf"
      },
      "source": [
        "### Plot Training and Validation Loss"
      ]
    },
    {
      "cell_type": "code",
      "metadata": {
        "id": "jEdHJkmjugAf"
      },
      "source": [
        "%matplotlib inline\n",
        "import matplotlib.pyplot as plt"
      ],
      "execution_count": null,
      "outputs": []
    },
    {
      "cell_type": "code",
      "metadata": {
        "id": "5kotchjcugAf",
        "outputId": "b0eb7358-cb08-4a71-ba17-d36b1439a718"
      },
      "source": [
        "plt.plot(epoch_train_losses, label='Training loss')\n",
        "plt.plot(epoch_eval_losses, label='Validation loss')\n",
        "plt.legend(frameon=False)\n",
        "plt.show()"
      ],
      "execution_count": null,
      "outputs": [
        {
          "data": {
            "image/png": "[encoded data removed]",
            "text/plain": [
              "<Figure size 432x288 with 1 Axes>"
            ]
          },
          "metadata": {
            "needs_background": "light"
          },
          "output_type": "display_data"
        }
      ]
    },
    {
      "cell_type": "markdown",
      "metadata": {
        "id": "koHRf7AVugAf"
      },
      "source": [
        "## Model Test and Compare"
      ]
    },
    {
      "cell_type": "code",
      "metadata": {
        "id": "RHBly0XHugAg",
        "outputId": "ef9068df-493e-4078-c4e6-88ed30750d7e"
      },
      "source": [
        "device = torch.device('cuda' if torch.cuda.is_available() else 'cpu')\n",
        "device"
      ],
      "execution_count": null,
      "outputs": [
        {
          "data": {
            "text/plain": [
              "device(type='cpu')"
            ]
          },
          "execution_count": 26,
          "metadata": {},
          "output_type": "execute_result"
        }
      ]
    },
    {
      "cell_type": "code",
      "metadata": {
        "id": "0d2HuVmougAg"
      },
      "source": [
        "# create iterator\n",
        "dataiter = iter(test_loader)\n",
        "# Get batch samples and labels\n",
        "batch_images, batch_labels = dataiter.next()\n",
        "\n",
        "batch_images_samples = batch_images.to(device)\n",
        "batch_labels_samples = batch_labels.to(device)"
      ],
      "execution_count": null,
      "outputs": []
    },
    {
      "cell_type": "markdown",
      "metadata": {
        "id": "EWFNfW59ugAg"
      },
      "source": [
        "### Test Model without MCD"
      ]
    },
    {
      "cell_type": "code",
      "metadata": {
        "id": "R6YWmsQhugAg",
        "outputId": "0f509b80-30cb-4635-8964-8502643d1a5e"
      },
      "source": [
        "# get sample outputs\n",
        "output = model_dropout(batch_images_samples)\n",
        "# convert output probabilities to predicted class,\n",
        "# get argmax\n",
        "_, preds = torch.max(output, 1)\n",
        "# prep images for display\n",
        "images = batch_images.numpy()\n",
        "\n",
        "# plot the images in the batch, along with predicted and true labels\n",
        "fig = plt.figure(figsize=(25, 4))\n",
        "for idx in np.arange(20):\n",
        "    ax = fig.add_subplot(2, 20/2, idx+1, xticks=[], yticks=[])\n",
        "    ax.imshow(np.squeeze(images[idx]), cmap='gray')\n",
        "    ax.set_title(\"{} ({})\".format(str(preds[idx].item()), str(batch_labels[idx].item())),\n",
        "                 color=(\"green\" if preds[idx]==batch_labels[idx] else \"red\"))"
      ],
      "execution_count": null,
      "outputs": [
        {
          "data": {
            "image/png": "[encoded data removed]",
            "text/plain": [
              "<Figure size 1800x288 with 20 Axes>"
            ]
          },
          "metadata": {},
          "output_type": "display_data"
        }
      ]
    },
    {
      "cell_type": "markdown",
      "metadata": {
        "id": "eGxE7pULugAg"
      },
      "source": [
        "### Test Model with MCD"
      ]
    },
    {
      "cell_type": "markdown",
      "metadata": {
        "id": "Z_ct3K4FugAg"
      },
      "source": [
        "__Enable dropout during testing__"
      ]
    },
    {
      "cell_type": "code",
      "metadata": {
        "id": "RK90UPqrugAg"
      },
      "source": [
        "def apply_dropout(m):\n",
        "    if type(m) == nn.Dropout:\n",
        "        m.train()"
      ],
      "execution_count": null,
      "outputs": []
    },
    {
      "cell_type": "code",
      "metadata": {
        "id": "tKeW_yj8ugAg",
        "outputId": "deb4fcda-0ba3-4322-8003-8327dd61e0ff"
      },
      "source": [
        "# Apply dropout on testing \n",
        "model_dropout.apply(apply_dropout)"
      ],
      "execution_count": null,
      "outputs": [
        {
          "data": {
            "text/plain": [
              "FullyConnectedNetDropOut(\n",
              "  (fc1): Linear(in_features=784, out_features=512, bias=True)\n",
              "  (fc2): Linear(in_features=512, out_features=256, bias=True)\n",
              "  (fc3): Linear(in_features=256, out_features=128, bias=True)\n",
              "  (fc4): Linear(in_features=128, out_features=64, bias=True)\n",
              "  (fc5): Linear(in_features=64, out_features=10, bias=True)\n",
              "  (dropout_02): Dropout(p=0.2, inplace=False)\n",
              "  (dropout_04): Dropout(p=0.4, inplace=False)\n",
              ")"
            ]
          },
          "execution_count": 36,
          "metadata": {},
          "output_type": "execute_result"
        }
      ]
    },
    {
      "cell_type": "markdown",
      "metadata": {
        "id": "ocaWNL_sugAh"
      },
      "source": [
        "__Define the Number of Stochastic Forward passes for each input sample__"
      ]
    },
    {
      "cell_type": "code",
      "metadata": {
        "id": "BP96nY8tugAh"
      },
      "source": [
        "# Nro of Forward passes\n",
        "T = 20\n",
        "predictions = []"
      ],
      "execution_count": null,
      "outputs": []
    },
    {
      "cell_type": "markdown",
      "metadata": {
        "id": "zQv6cGj3ugAh"
      },
      "source": [
        "#### Input Sample with Correct Prediction"
      ]
    },
    {
      "cell_type": "markdown",
      "metadata": {
        "id": "k-U5thYyugAh"
      },
      "source": [
        "__Use the same batch__\n",
        "\n",
        "Use image[0] from batch, which has label \"7\""
      ]
    },
    {
      "cell_type": "code",
      "metadata": {
        "id": "LYJNLH6ougAh",
        "outputId": "5f7a2336-0efc-4f7d-fc96-ed3e4b59a64a"
      },
      "source": [
        "batch_image_sample = batch_images[0].to(device)\n",
        "batch_label_sample = batch_labels[0].to(device)\n",
        "# Plot one sample of the batch\n",
        "img = np.array(batch_image_sample, dtype='float')\n",
        "img = img.reshape((28, 28))\n",
        "\n",
        "plt.imshow(img, cmap='gray')\n",
        "plt.show()"
      ],
      "execution_count": null,
      "outputs": [
        {
          "data": {
            "image/png": "[encoded data removed]",
            "text/plain": [
              "<Figure size 432x288 with 1 Axes>"
            ]
          },
          "metadata": {
            "needs_background": "light"
          },
          "output_type": "display_data"
        }
      ]
    },
    {
      "cell_type": "markdown",
      "metadata": {
        "id": "Ij2V9r-_ugAh"
      },
      "source": [
        "__Run 20 Stochastic Forward Passes__"
      ]
    },
    {
      "cell_type": "code",
      "metadata": {
        "id": "ufp72ykaugAh",
        "outputId": "061d504d-daf4-4649-b829-f78a0e80151c"
      },
      "source": [
        "predictions = [np.exp(model_dropout(batch_images[0]).detach().numpy()).argmax() for t in range(T)]\n",
        "predictions"
      ],
      "execution_count": null,
      "outputs": [
        {
          "data": {
            "text/plain": [
              "[7, 7, 7, 7, 7, 7, 7, 7, 7, 7, 7, 7, 7, 7, 7, 7, 7, 7, 7, 7]"
            ]
          },
          "execution_count": 187,
          "metadata": {},
          "output_type": "execute_result"
        }
      ]
    },
    {
      "cell_type": "code",
      "metadata": {
        "id": "s4rfkMwgugAh",
        "outputId": "45b42172-851d-40c5-e374-8ab88cec1cdc"
      },
      "source": [
        "# Plot predictions histogram\n",
        "bins = [0, 1, 2, 3, 4, 5, 6, 7, 8, 9]\n",
        "plt.hist(predictions, range=(0,10), align='left', density=True)\n",
        "plt.xticks(bins)\n",
        "plt.show()"
      ],
      "execution_count": null,
      "outputs": [
        {
          "data": {
            "image/png": "[encoded data removed]",
            "text/plain": [
              "<Figure size 432x288 with 1 Axes>"
            ]
          },
          "metadata": {
            "needs_background": "light"
          },
          "output_type": "display_data"
        }
      ]
    },
    {
      "cell_type": "code",
      "metadata": {
        "id": "7xfYkWHOugAi",
        "outputId": "f095afc9-04ea-4c9e-a0bb-db829395730a"
      },
      "source": [
        "counts, bins = np.histogram(predictions, bins=10, range=(0,10), density=True)\n",
        "counts, bins"
      ],
      "execution_count": null,
      "outputs": [
        {
          "data": {
            "text/plain": [
              "(array([0., 0., 0., 0., 0., 0., 0., 1., 0., 0.]),\n",
              " array([ 0.,  1.,  2.,  3.,  4.,  5.,  6.,  7.,  8.,  9., 10.]))"
            ]
          },
          "execution_count": 193,
          "metadata": {},
          "output_type": "execute_result"
        }
      ]
    },
    {
      "cell_type": "markdown",
      "metadata": {
        "heading_collapsed": true,
        "id": "F8o5uGtgugAi"
      },
      "source": [
        "#### Input Sample with Wrong Prediction"
      ]
    },
    {
      "cell_type": "markdown",
      "metadata": {
        "hidden": true,
        "id": "QS05Mgb2ugAi"
      },
      "source": [
        "Use the same batch\n",
        "\n",
        "Use image[8] from batch, which has label \"5\" but was misclassified as \"6\""
      ]
    },
    {
      "cell_type": "code",
      "metadata": {
        "hidden": true,
        "id": "eiVAoYVwugAi",
        "outputId": "3402943c-a06a-4195-b08c-02a6ce650203"
      },
      "source": [
        "batch_image_sample_8 = batch_images[8].to(device)\n",
        "batch_label_sample_8 = batch_labels[8].to(device)\n",
        "# Plot one sample of the batch\n",
        "img = np.array(batch_image_sample_8, dtype='float')\n",
        "img = img.reshape((28, 28))\n",
        "\n",
        "plt.imshow(img, cmap='gray')\n",
        "plt.show()"
      ],
      "execution_count": null,
      "outputs": [
        {
          "data": {
            "image/png": "[encoded data removed]",
            "text/plain": [
              "<Figure size 432x288 with 1 Axes>"
            ]
          },
          "metadata": {
            "needs_background": "light"
          },
          "output_type": "display_data"
        }
      ]
    },
    {
      "cell_type": "markdown",
      "metadata": {
        "hidden": true,
        "id": "bqtGdO3XugAi"
      },
      "source": [
        "__Run 20 Stochastic Forward Passes__"
      ]
    },
    {
      "cell_type": "code",
      "metadata": {
        "hidden": true,
        "id": "6CbFr0zBugAi",
        "outputId": "c663b0e9-4312-4f8d-dd05-fcd24c3604f6"
      },
      "source": [
        "predictions = [np.exp(model_dropout(batch_images[8]).detach().numpy()).argmax() for t in range(T)]\n",
        "predictions"
      ],
      "execution_count": null,
      "outputs": [
        {
          "data": {
            "text/plain": [
              "[6, 6, 6, 6, 6, 5, 5, 5, 6, 4, 6, 6, 6, 6, 5, 5, 6, 6, 6, 6]"
            ]
          },
          "execution_count": 196,
          "metadata": {},
          "output_type": "execute_result"
        }
      ]
    },
    {
      "cell_type": "markdown",
      "metadata": {
        "hidden": true,
        "id": "Ur_wCmlnugAi"
      },
      "source": [
        "__Plot Predictions Histogram__"
      ]
    },
    {
      "cell_type": "code",
      "metadata": {
        "hidden": true,
        "scrolled": true,
        "id": "udnQCXNUugAi",
        "outputId": "7e65c59e-38c5-4005-b8c6-b34d2b1c9f30"
      },
      "source": [
        "# Plot predictions histogram\n",
        "bins = [0, 1, 2, 3, 4, 5, 6, 7, 8, 9]\n",
        "plt.hist(predictions, range=(0,10), align='left', density=True)\n",
        "plt.xticks(bins)\n",
        "plt.show()"
      ],
      "execution_count": null,
      "outputs": [
        {
          "data": {
            "image/png": "[encoded data removed]",
            "text/plain": [
              "<Figure size 432x288 with 1 Axes>"
            ]
          },
          "metadata": {
            "needs_background": "light"
          },
          "output_type": "display_data"
        }
      ]
    },
    {
      "cell_type": "markdown",
      "metadata": {
        "hidden": true,
        "id": "_HPZ2nJCugAj"
      },
      "source": [
        "The Neural Net gets confused between labels \"4\" and \"6\""
      ]
    },
    {
      "cell_type": "markdown",
      "metadata": {
        "id": "ZkwwQuk1ugAj"
      },
      "source": [
        "#### Input Sample that is Intentionally Out-Of-Distribution (ODD)"
      ]
    },
    {
      "cell_type": "markdown",
      "metadata": {
        "id": "qVefbeZ7ugAj"
      },
      "source": [
        "__Use the same batch__\n",
        "\n",
        "Use image[0] from batch, which has label \"7\" but this time perform the __transpose__ on that image\n",
        "\n",
        "This operation allows to input an unknown sample to the model (i.e. transposed sample with \"7\" label)."
      ]
    },
    {
      "cell_type": "code",
      "metadata": {
        "id": "fj3BTRBFugAj",
        "outputId": "267c8c0c-8171-404c-cb77-902d435ff7b1"
      },
      "source": [
        "batch_images_samples = batch_images.to(device)\n",
        "batch_labels_samples = batch_labels.to(device)\n",
        "# Plot one sample of the batch\n",
        "#Get sample transpose\n",
        "batch_image_sample_0_T = batch_image_sample_0.T\n",
        "# Plot one sample of the batch\n",
        "img = np.array(batch_image_sample_0_T, dtype='float')\n",
        "img = img.reshape((28, 28))\n",
        "\n",
        "plt.imshow(img, cmap='gray')\n",
        "plt.show()"
      ],
      "execution_count": null,
      "outputs": [
        {
          "data": {
            "image/png": "[encoded data removed]",
            "text/plain": [
              "<Figure size 432x288 with 1 Axes>"
            ]
          },
          "metadata": {
            "needs_background": "light"
          },
          "output_type": "display_data"
        }
      ]
    },
    {
      "cell_type": "markdown",
      "metadata": {
        "id": "WxYtXJbcugAj"
      },
      "source": [
        "__Run 20 Stochastic Forward Passes__"
      ]
    },
    {
      "cell_type": "markdown",
      "metadata": {
        "id": "0_zF4PKnugAj"
      },
      "source": [
        "Fix tensor dimensions and turn tensor into contiguous after transpose operation\n",
        "[Contigious vs non-contigious tensor](https://discuss.pytorch.org/t/contigious-vs-non-contigious-tensor/30107)"
      ]
    },
    {
      "cell_type": "code",
      "metadata": {
        "id": "W6ismAEfugAj"
      },
      "source": [
        "#Get sample transpose\n",
        "imageTransposed = batch_images[0].T.contiguous()\n",
        "imageTransposed = imageTransposed.to(device)"
      ],
      "execution_count": null,
      "outputs": []
    },
    {
      "cell_type": "code",
      "metadata": {
        "id": "jKnrrMomugAj",
        "outputId": "4738107f-d9ce-4ed4-cb76-7c439a939644"
      },
      "source": [
        "predictions = [np.exp(model_dropout(imageTransposed).detach().numpy()).argmax() for t in range(T)]\n",
        "predictions"
      ],
      "execution_count": null,
      "outputs": [
        {
          "data": {
            "text/plain": [
              "[6, 6, 6, 6, 6, 6, 6, 6, 6, 6, 6, 6, 6, 6, 6, 6, 6, 6, 6, 6]"
            ]
          },
          "execution_count": 309,
          "metadata": {},
          "output_type": "execute_result"
        }
      ]
    },
    {
      "cell_type": "markdown",
      "metadata": {
        "id": "pwF0EAZwugAj"
      },
      "source": [
        "__Plot Predictions Histogram__"
      ]
    },
    {
      "cell_type": "code",
      "metadata": {
        "id": "-YGCD03pugAk",
        "outputId": "8bcd0db2-2135-4e2b-f614-286fea34ad72"
      },
      "source": [
        "# Plot predictions histogram\n",
        "bins = [0, 1, 2, 3, 4, 5, 6, 7, 8, 9]\n",
        "plt.hist(predictions, range=(0,10), align='left', density=True)\n",
        "plt.xticks(bins)\n",
        "plt.show()"
      ],
      "execution_count": null,
      "outputs": [
        {
          "data": {
            "image/png": "[encoded data removed]",
            "text/plain": [
              "<Figure size 432x288 with 1 Axes>"
            ]
          },
          "metadata": {
            "needs_background": "light"
          },
          "output_type": "display_data"
        }
      ]
    },
    {
      "cell_type": "markdown",
      "metadata": {
        "id": "jc-HkAMBugAk"
      },
      "source": [
        "The neural networks is totally sure that this input (ODD input) is a \"6\"\n",
        "\n",
        "This is very dangerous, the NN is totally confident about something we don't know for sure"
      ]
    },
    {
      "cell_type": "code",
      "metadata": {
        "id": "wxJBSuG3ugAk"
      },
      "source": [
        ""
      ],
      "execution_count": null,
      "outputs": []
    }
  ]
}