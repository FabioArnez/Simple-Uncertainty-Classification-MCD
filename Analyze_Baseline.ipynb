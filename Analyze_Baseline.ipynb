{
 "cells": [
  {
   "cell_type": "markdown",
   "metadata": {},
   "source": [
    "# Analyze Neural Net Model"
   ]
  },
  {
   "cell_type": "markdown",
   "metadata": {},
   "source": [
    "General Imports"
   ]
  },
  {
   "cell_type": "code",
   "execution_count": 1,
   "metadata": {
    "ExecuteTime": {
     "end_time": "2020-02-13T08:53:52.207867Z",
     "start_time": "2020-02-13T08:53:52.197360Z"
    }
   },
   "outputs": [],
   "source": [
    "%load_ext autoreload\n",
    "%autoreload 2"
   ]
  },
  {
   "cell_type": "code",
   "execution_count": 2,
   "metadata": {
    "ExecuteTime": {
     "end_time": "2020-02-13T08:53:53.648308Z",
     "start_time": "2020-02-13T08:53:52.810802Z"
    }
   },
   "outputs": [],
   "source": [
    "import torch\n",
    "import torch.nn as nn\n",
    "import torch.nn.functional as F\n",
    "import torchvision\n",
    "import torchvision.transforms as transforms\n",
    "import matplotlib.pyplot as plt\n",
    "import numpy as np\n",
    "from torch.utils.data.sampler import SubsetRandomSampler"
   ]
  },
  {
   "cell_type": "markdown",
   "metadata": {},
   "source": [
    "Local Imports"
   ]
  },
  {
   "cell_type": "code",
   "execution_count": 4,
   "metadata": {
    "ExecuteTime": {
     "end_time": "2020-02-13T08:54:04.478826Z",
     "start_time": "2020-02-13T08:54:04.469763Z"
    }
   },
   "outputs": [],
   "source": [
    "from model import FullyConnectedNet\n",
    "from TrainValidTest import TrainValidNeuralNet"
   ]
  },
  {
   "cell_type": "code",
   "execution_count": 5,
   "metadata": {
    "ExecuteTime": {
     "end_time": "2020-02-13T08:54:05.352206Z",
     "start_time": "2020-02-13T08:54:05.344251Z"
    }
   },
   "outputs": [],
   "source": [
    "# number of subprocesses to use for data loading\n",
    "num_workers = 0\n",
    "# how many samples per batch to load\n",
    "batch_size = 20\n",
    "# percentage of training set to use as validation\n",
    "valid_size = 0.2"
   ]
  },
  {
   "cell_type": "markdown",
   "metadata": {},
   "source": [
    "## Load Data"
   ]
  },
  {
   "cell_type": "code",
   "execution_count": 6,
   "metadata": {
    "ExecuteTime": {
     "end_time": "2020-02-13T08:54:06.726766Z",
     "start_time": "2020-02-13T08:54:06.671880Z"
    }
   },
   "outputs": [],
   "source": [
    "# convert data to torch.FloatTensor\n",
    "transform = transforms.ToTensor()\n",
    "# choose the training and test datasets\n",
    "train_data = torchvision.datasets.MNIST(root='../data', train=True,\n",
    "                               download=True, transform=transform)\n",
    "test_data = torchvision.datasets.MNIST(root='../data', train=False,\n",
    "                              download=True, transform=transform)\n",
    "# prepare data loaders\n",
    "train_loader = torch.utils.data.DataLoader( train_data, batch_size=batch_size, \n",
    "                            num_workers=num_workers)\n",
    "test_loader = torch.utils.data.DataLoader(test_data, batch_size=batch_size, \n",
    "                            num_workers=num_workers)"
   ]
  },
  {
   "cell_type": "code",
   "execution_count": 7,
   "metadata": {
    "ExecuteTime": {
     "end_time": "2020-02-13T08:54:07.325505Z",
     "start_time": "2020-02-13T08:54:07.281524Z"
    }
   },
   "outputs": [],
   "source": [
    "# obtain training indices that will be used for validation\n",
    "num_train = len(train_data)\n",
    "indices = list(range(num_train))\n",
    "np.random.shuffle(indices)\n",
    "split = int(np.floor(valid_size * num_train))\n",
    "train_idx, valid_idx = indices[split:], indices[:split]\n",
    "\n",
    "# define samplers for obtaining training and validation batches\n",
    "train_sampler = SubsetRandomSampler(train_idx)\n",
    "valid_sampler = SubsetRandomSampler(valid_idx)\n",
    "\n",
    "# prepare data loaders\n",
    "train_loader = torch.utils.data.DataLoader(train_data, batch_size=batch_size,\n",
    "    sampler=train_sampler, num_workers=num_workers)\n",
    "\n",
    "valid_loader = torch.utils.data.DataLoader(train_data, batch_size=batch_size, \n",
    "    sampler=valid_sampler, num_workers=num_workers)\n",
    "\n",
    "test_loader = torch.utils.data.DataLoader(test_data, batch_size=batch_size, \n",
    "    num_workers=num_workers)"
   ]
  },
  {
   "cell_type": "markdown",
   "metadata": {},
   "source": [
    "## Create a Neural Net Model"
   ]
  },
  {
   "cell_type": "code",
   "execution_count": 8,
   "metadata": {
    "ExecuteTime": {
     "end_time": "2020-02-13T08:54:12.380364Z",
     "start_time": "2020-02-13T08:54:12.364340Z"
    }
   },
   "outputs": [],
   "source": [
    "%reload_ext autoreload\n",
    "from model import FullyConnectedNet\n",
    "from TrainValidTest import TrainValidNeuralNet"
   ]
  },
  {
   "cell_type": "code",
   "execution_count": 9,
   "metadata": {
    "ExecuteTime": {
     "end_time": "2020-02-13T08:54:13.171246Z",
     "start_time": "2020-02-13T08:54:13.148764Z"
    }
   },
   "outputs": [
    {
     "name": "stdout",
     "output_type": "stream",
     "text": [
      "FullyConnectedNet(\n",
      "  (fc1): Linear(in_features=784, out_features=512, bias=True)\n",
      "  (fc2): Linear(in_features=512, out_features=256, bias=True)\n",
      "  (fc3): Linear(in_features=256, out_features=128, bias=True)\n",
      "  (fc4): Linear(in_features=128, out_features=64, bias=True)\n",
      "  (fc5): Linear(in_features=64, out_features=10, bias=True)\n",
      "  (dropout): Dropout(p=0.2, inplace=False)\n",
      ")\n"
     ]
    }
   ],
   "source": [
    "# initialize the NN\n",
    "model = FullyConnectedNet()\n",
    "print(model)"
   ]
  },
  {
   "cell_type": "markdown",
   "metadata": {},
   "source": [
    "## Train & Evaluate Neural Network"
   ]
  },
  {
   "cell_type": "code",
   "execution_count": 11,
   "metadata": {
    "ExecuteTime": {
     "end_time": "2020-02-13T08:57:45.322587Z",
     "start_time": "2020-02-13T08:54:28.446353Z"
    },
    "scrolled": false
   },
   "outputs": [
    {
     "name": "stdout",
     "output_type": "stream",
     "text": [
      "Epoch: 1/30..  Avg. Training Loss: 1.898..  Avg. Validation Loss: 0.752.. \n",
      "Epoch: 2/30..  Avg. Training Loss: 0.530..  Avg. Validation Loss: 0.357.. \n",
      "Epoch: 3/30..  Avg. Training Loss: 0.301..  Avg. Validation Loss: 0.231.. \n",
      "Epoch: 4/30..  Avg. Training Loss: 0.205..  Avg. Validation Loss: 0.169.. \n",
      "Epoch: 5/30..  Avg. Training Loss: 0.154..  Avg. Validation Loss: 0.141.. \n",
      "Epoch: 6/30..  Avg. Training Loss: 0.121..  Avg. Validation Loss: 0.118.. \n",
      "Epoch: 7/30..  Avg. Training Loss: 0.099..  Avg. Validation Loss: 0.113.. \n",
      "Epoch: 8/30..  Avg. Training Loss: 0.081..  Avg. Validation Loss: 0.107.. \n",
      "Epoch: 9/30..  Avg. Training Loss: 0.069..  Avg. Validation Loss: 0.101.. \n",
      "Epoch: 10/30..  Avg. Training Loss: 0.058..  Avg. Validation Loss: 0.101.. \n",
      "Epoch: 11/30..  Avg. Training Loss: 0.048..  Avg. Validation Loss: 0.102.. \n",
      "Epoch: 12/30..  Avg. Training Loss: 0.040..  Avg. Validation Loss: 0.106.. \n",
      "Epoch: 13/30..  Avg. Training Loss: 0.033..  Avg. Validation Loss: 0.093.. \n",
      "Epoch: 14/30..  Avg. Training Loss: 0.028..  Avg. Validation Loss: 0.104.. \n",
      "Epoch: 15/30..  Avg. Training Loss: 0.022..  Avg. Validation Loss: 0.094.. \n",
      "Epoch: 16/30..  Avg. Training Loss: 0.019..  Avg. Validation Loss: 0.093.. \n",
      "Epoch: 17/30..  Avg. Training Loss: 0.014..  Avg. Validation Loss: 0.091.. \n",
      "Epoch: 18/30..  Avg. Training Loss: 0.011..  Avg. Validation Loss: 0.120.. \n",
      "Epoch: 19/30..  Avg. Training Loss: 0.008..  Avg. Validation Loss: 0.105.. \n",
      "Epoch: 20/30..  Avg. Training Loss: 0.006..  Avg. Validation Loss: 0.100.. \n",
      "Epoch: 21/30..  Avg. Training Loss: 0.004..  Avg. Validation Loss: 0.101.. \n",
      "Epoch: 22/30..  Avg. Training Loss: 0.004..  Avg. Validation Loss: 0.105.. \n",
      "Epoch: 23/30..  Avg. Training Loss: 0.002..  Avg. Validation Loss: 0.103.. \n",
      "Epoch: 24/30..  Avg. Training Loss: 0.002..  Avg. Validation Loss: 0.105.. \n",
      "Epoch: 25/30..  Avg. Training Loss: 0.002..  Avg. Validation Loss: 0.105.. \n",
      "Epoch: 26/30..  Avg. Training Loss: 0.001..  Avg. Validation Loss: 0.107.. \n",
      "Epoch: 27/30..  Avg. Training Loss: 0.001..  Avg. Validation Loss: 0.109.. \n",
      "Epoch: 28/30..  Avg. Training Loss: 0.001..  Avg. Validation Loss: 0.109.. \n",
      "Epoch: 29/30..  Avg. Training Loss: 0.001..  Avg. Validation Loss: 0.111.. \n",
      "Epoch: 30/30..  Avg. Training Loss: 0.001..  Avg. Validation Loss: 0.113.. \n"
     ]
    }
   ],
   "source": [
    "epoch_train_losses, epoch_eval_losses = [], []\n",
    "epoch_train_losses, epoch_eval_losses = TrainValidNeuralNet(model, train_loader, valid_loader, 30)"
   ]
  },
  {
   "cell_type": "markdown",
   "metadata": {},
   "source": [
    "__Save de Model__"
   ]
  },
  {
   "cell_type": "code",
   "execution_count": 14,
   "metadata": {
    "ExecuteTime": {
     "end_time": "2020-02-13T09:04:39.528115Z",
     "start_time": "2020-02-13T09:04:39.482605Z"
    }
   },
   "outputs": [],
   "source": [
    "torch.save(model.state_dict(), 'model.pt')"
   ]
  },
  {
   "cell_type": "markdown",
   "metadata": {},
   "source": [
    "## Plot Training and Validation Loss"
   ]
  },
  {
   "cell_type": "code",
   "execution_count": 12,
   "metadata": {
    "ExecuteTime": {
     "end_time": "2020-02-13T08:57:49.149775Z",
     "start_time": "2020-02-13T08:57:49.133292Z"
    }
   },
   "outputs": [],
   "source": [
    "%matplotlib inline\n",
    "import matplotlib.pyplot as plt"
   ]
  },
  {
   "cell_type": "code",
   "execution_count": 15,
   "metadata": {
    "ExecuteTime": {
     "end_time": "2020-02-13T09:04:49.103458Z",
     "start_time": "2020-02-13T09:04:48.978748Z"
    }
   },
   "outputs": [
    {
     "data": {
      "image/png": "[encoded data removed]",
      "text/plain": [
       "<Figure size 432x288 with 1 Axes>"
      ]
     },
     "metadata": {
      "needs_background": "light"
     },
     "output_type": "display_data"
    }
   ],
   "source": [
    "plt.plot(epoch_train_losses, label='Training loss')\n",
    "plt.plot(epoch_eval_losses, label='Validation loss')\n",
    "plt.legend(frameon=False)\n",
    "plt.show()"
   ]
  },
  {
   "cell_type": "markdown",
   "metadata": {
    "heading_collapsed": true
   },
   "source": [
    "## Batch Details for Loss Computation"
   ]
  },
  {
   "cell_type": "markdown",
   "metadata": {
    "hidden": true
   },
   "source": [
    "Train loader Nro. batches"
   ]
  },
  {
   "cell_type": "code",
   "execution_count": 102,
   "metadata": {
    "ExecuteTime": {
     "end_time": "2020-02-12T23:02:06.176535Z",
     "start_time": "2020-02-12T23:02:06.142710Z"
    },
    "hidden": true
   },
   "outputs": [
    {
     "data": {
      "text/plain": [
       "2400"
      ]
     },
     "execution_count": 102,
     "metadata": {},
     "output_type": "execute_result"
    }
   ],
   "source": [
    "Batches = len(train_loader)\n",
    "Batches"
   ]
  },
  {
   "cell_type": "code",
   "execution_count": 26,
   "metadata": {
    "ExecuteTime": {
     "end_time": "2020-02-12T20:12:41.629095Z",
     "start_time": "2020-02-12T20:12:41.619360Z"
    },
    "hidden": true
   },
   "outputs": [
    {
     "data": {
      "text/plain": [
       "48000"
      ]
     },
     "execution_count": 26,
     "metadata": {},
     "output_type": "execute_result"
    }
   ],
   "source": [
    "len(train_loader.sampler)"
   ]
  },
  {
   "cell_type": "markdown",
   "metadata": {
    "hidden": true
   },
   "source": [
    "Nro_train_samples = Batches * batch_size\n",
    "Nro_train_samples = 2400"
   ]
  },
  {
   "cell_type": "code",
   "execution_count": 25,
   "metadata": {
    "ExecuteTime": {
     "end_time": "2020-02-12T20:12:11.815469Z",
     "start_time": "2020-02-12T20:12:11.812204Z"
    },
    "hidden": true
   },
   "outputs": [
    {
     "data": {
      "text/plain": [
       "48000"
      ]
     },
     "execution_count": 25,
     "metadata": {},
     "output_type": "execute_result"
    }
   ],
   "source": [
    "Nro_train_samples = Batches * batch_size\n",
    "Nro_train_samples"
   ]
  },
  {
   "cell_type": "code",
   "execution_count": 36,
   "metadata": {
    "ExecuteTime": {
     "end_time": "2020-02-12T21:22:58.360798Z",
     "start_time": "2020-02-12T21:22:58.340288Z"
    },
    "hidden": true
   },
   "outputs": [],
   "source": [
    "dataiter = iter(train_loader)\n",
    "batch_data, labels = dataiter.next()"
   ]
  },
  {
   "cell_type": "code",
   "execution_count": 37,
   "metadata": {
    "ExecuteTime": {
     "end_time": "2020-02-12T21:23:07.212967Z",
     "start_time": "2020-02-12T21:23:07.209422Z"
    },
    "hidden": true
   },
   "outputs": [
    {
     "data": {
      "text/plain": [
       "torch.Size([20, 1, 28, 28])"
      ]
     },
     "execution_count": 37,
     "metadata": {},
     "output_type": "execute_result"
    }
   ],
   "source": [
    "batch_data.size()"
   ]
  },
  {
   "cell_type": "code",
   "execution_count": 38,
   "metadata": {
    "ExecuteTime": {
     "end_time": "2020-02-12T21:23:07.766908Z",
     "start_time": "2020-02-12T21:23:07.759302Z"
    },
    "hidden": true
   },
   "outputs": [
    {
     "data": {
      "text/plain": [
       "20"
      ]
     },
     "execution_count": 38,
     "metadata": {},
     "output_type": "execute_result"
    }
   ],
   "source": [
    "batch_data.size(0)"
   ]
  },
  {
   "cell_type": "code",
   "execution_count": 39,
   "metadata": {
    "ExecuteTime": {
     "end_time": "2020-02-12T21:23:12.188504Z",
     "start_time": "2020-02-12T21:23:12.182470Z"
    },
    "hidden": true
   },
   "outputs": [
    {
     "data": {
      "text/plain": [
       "60000"
      ]
     },
     "execution_count": 39,
     "metadata": {},
     "output_type": "execute_result"
    }
   ],
   "source": [
    "len(train_loader.dataset)"
   ]
  },
  {
   "cell_type": "code",
   "execution_count": 103,
   "metadata": {
    "ExecuteTime": {
     "end_time": "2020-02-12T23:02:09.209977Z",
     "start_time": "2020-02-12T23:02:09.179940Z"
    },
    "hidden": true
   },
   "outputs": [
    {
     "data": {
      "text/plain": [
       "600"
      ]
     },
     "execution_count": 103,
     "metadata": {},
     "output_type": "execute_result"
    }
   ],
   "source": [
    "Validation_Batches = len(valid_loader)\n",
    "Validation_Batches"
   ]
  }
 ],
 "metadata": {
  "kernelspec": {
   "display_name": "UncertaintyDNN",
   "language": "python",
   "name": "uncertaintydnn"
  },
  "language_info": {
   "codemirror_mode": {
    "name": "ipython",
    "version": 3
   },
   "file_extension": ".py",
   "mimetype": "text/x-python",
   "name": "python",
   "nbconvert_exporter": "python",
   "pygments_lexer": "ipython3",
   "version": "3.6.9"
  }
 },
 "nbformat": 4,
 "nbformat_minor": 4
}
