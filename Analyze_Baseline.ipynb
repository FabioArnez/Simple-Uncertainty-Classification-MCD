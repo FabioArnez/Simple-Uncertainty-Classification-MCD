{
 "cells": [
  {
   "cell_type": "markdown",
   "metadata": {},
   "source": [
    "# Analyze Neural Net Model"
   ]
  },
  {
   "cell_type": "markdown",
   "metadata": {},
   "source": [
    "General Imports"
   ]
  },
  {
   "cell_type": "code",
   "execution_count": 1,
   "metadata": {
    "ExecuteTime": {
     "end_time": "2020-02-13T08:53:52.207867Z",
     "start_time": "2020-02-13T08:53:52.197360Z"
    }
   },
   "outputs": [],
   "source": [
    "%load_ext autoreload\n",
    "%autoreload 2"
   ]
  },
  {
   "cell_type": "code",
   "execution_count": 20,
   "metadata": {
    "ExecuteTime": {
     "end_time": "2020-02-13T08:53:53.648308Z",
     "start_time": "2020-02-13T08:53:52.810802Z"
    }
   },
   "outputs": [],
   "source": [
    "import numpy as np\n",
    "import torch\n",
    "import torch.nn as nn\n",
    "import torch.nn.functional as F\n",
    "import torchvision\n",
    "import torchvision.transforms as transforms\n",
    "import matplotlib.pyplot as plt\n",
    "import numpy as np\n",
    "from torch.utils.data.sampler import SubsetRandomSampler"
   ]
  },
  {
   "cell_type": "markdown",
   "metadata": {},
   "source": [
    "Local Imports"
   ]
  },
  {
   "cell_type": "code",
   "execution_count": 3,
   "metadata": {
    "ExecuteTime": {
     "end_time": "2020-02-13T08:54:04.478826Z",
     "start_time": "2020-02-13T08:54:04.469763Z"
    }
   },
   "outputs": [],
   "source": [
    "from model import FullyConnectedNet\n",
    "from TrainValidTest import TrainValidNeuralNet"
   ]
  },
  {
   "cell_type": "code",
   "execution_count": 4,
   "metadata": {
    "ExecuteTime": {
     "end_time": "2020-02-13T08:54:05.352206Z",
     "start_time": "2020-02-13T08:54:05.344251Z"
    }
   },
   "outputs": [],
   "source": [
    "# number of subprocesses to use for data loading\n",
    "num_workers = 0\n",
    "# how many samples per batch to load\n",
    "batch_size = 20\n",
    "# percentage of training set to use as validation\n",
    "valid_size = 0.2"
   ]
  },
  {
   "cell_type": "markdown",
   "metadata": {
    "heading_collapsed": true
   },
   "source": [
    "## Load Data"
   ]
  },
  {
   "cell_type": "code",
   "execution_count": 5,
   "metadata": {
    "ExecuteTime": {
     "end_time": "2020-02-13T08:54:06.726766Z",
     "start_time": "2020-02-13T08:54:06.671880Z"
    },
    "hidden": true
   },
   "outputs": [],
   "source": [
    "# convert data to torch.FloatTensor\n",
    "transform = transforms.ToTensor()\n",
    "# choose the training and test datasets\n",
    "train_data = torchvision.datasets.MNIST(root='../data', train=True,\n",
    "                               download=True, transform=transform)\n",
    "test_data = torchvision.datasets.MNIST(root='../data', train=False,\n",
    "                              download=True, transform=transform)\n",
    "# prepare data loaders\n",
    "train_loader = torch.utils.data.DataLoader( train_data, batch_size=batch_size, \n",
    "                            num_workers=num_workers)\n",
    "test_loader = torch.utils.data.DataLoader(test_data, batch_size=batch_size, \n",
    "                            num_workers=num_workers)"
   ]
  },
  {
   "cell_type": "code",
   "execution_count": 6,
   "metadata": {
    "ExecuteTime": {
     "end_time": "2020-02-13T08:54:07.325505Z",
     "start_time": "2020-02-13T08:54:07.281524Z"
    },
    "hidden": true
   },
   "outputs": [],
   "source": [
    "# obtain training indices that will be used for validation\n",
    "num_train = len(train_data)\n",
    "indices = list(range(num_train))\n",
    "np.random.shuffle(indices)\n",
    "split = int(np.floor(valid_size * num_train))\n",
    "train_idx, valid_idx = indices[split:], indices[:split]\n",
    "\n",
    "# define samplers for obtaining training and validation batches\n",
    "train_sampler = SubsetRandomSampler(train_idx)\n",
    "valid_sampler = SubsetRandomSampler(valid_idx)\n",
    "\n",
    "# prepare data loaders\n",
    "train_loader = torch.utils.data.DataLoader(train_data, batch_size=batch_size,\n",
    "    sampler=train_sampler, num_workers=num_workers)\n",
    "\n",
    "valid_loader = torch.utils.data.DataLoader(train_data, batch_size=batch_size, \n",
    "    sampler=valid_sampler, num_workers=num_workers)\n",
    "\n",
    "test_loader = torch.utils.data.DataLoader(test_data, batch_size=batch_size, \n",
    "    num_workers=num_workers)"
   ]
  },
  {
   "cell_type": "markdown",
   "metadata": {
    "heading_collapsed": true
   },
   "source": [
    "## Batch Details for Loss Computation"
   ]
  },
  {
   "cell_type": "markdown",
   "metadata": {
    "hidden": true
   },
   "source": [
    "Train loader Nro. batches"
   ]
  },
  {
   "cell_type": "code",
   "execution_count": 102,
   "metadata": {
    "ExecuteTime": {
     "end_time": "2020-02-12T23:02:06.176535Z",
     "start_time": "2020-02-12T23:02:06.142710Z"
    },
    "hidden": true
   },
   "outputs": [
    {
     "data": {
      "text/plain": [
       "2400"
      ]
     },
     "execution_count": 102,
     "metadata": {},
     "output_type": "execute_result"
    }
   ],
   "source": [
    "Batches = len(train_loader)\n",
    "Batches"
   ]
  },
  {
   "cell_type": "code",
   "execution_count": 26,
   "metadata": {
    "ExecuteTime": {
     "end_time": "2020-02-12T20:12:41.629095Z",
     "start_time": "2020-02-12T20:12:41.619360Z"
    },
    "hidden": true,
    "scrolled": true
   },
   "outputs": [
    {
     "data": {
      "text/plain": [
       "48000"
      ]
     },
     "execution_count": 26,
     "metadata": {},
     "output_type": "execute_result"
    }
   ],
   "source": [
    "len(train_loader.sampler)"
   ]
  },
  {
   "cell_type": "markdown",
   "metadata": {
    "hidden": true
   },
   "source": [
    "Nro_train_samples = Batches * batch_size\n",
    "Nro_train_samples = 2400"
   ]
  },
  {
   "cell_type": "code",
   "execution_count": 25,
   "metadata": {
    "ExecuteTime": {
     "end_time": "2020-02-12T20:12:11.815469Z",
     "start_time": "2020-02-12T20:12:11.812204Z"
    },
    "hidden": true,
    "scrolled": true
   },
   "outputs": [
    {
     "data": {
      "text/plain": [
       "48000"
      ]
     },
     "execution_count": 25,
     "metadata": {},
     "output_type": "execute_result"
    }
   ],
   "source": [
    "Nro_train_samples = Batches * batch_size\n",
    "Nro_train_samples"
   ]
  },
  {
   "cell_type": "code",
   "execution_count": 36,
   "metadata": {
    "ExecuteTime": {
     "end_time": "2020-02-12T21:22:58.360798Z",
     "start_time": "2020-02-12T21:22:58.340288Z"
    },
    "hidden": true
   },
   "outputs": [],
   "source": [
    "dataiter = iter(train_loader)\n",
    "batch_data, labels = dataiter.next()"
   ]
  },
  {
   "cell_type": "code",
   "execution_count": 37,
   "metadata": {
    "ExecuteTime": {
     "end_time": "2020-02-12T21:23:07.212967Z",
     "start_time": "2020-02-12T21:23:07.209422Z"
    },
    "hidden": true
   },
   "outputs": [
    {
     "data": {
      "text/plain": [
       "torch.Size([20, 1, 28, 28])"
      ]
     },
     "execution_count": 37,
     "metadata": {},
     "output_type": "execute_result"
    }
   ],
   "source": [
    "batch_data.size()"
   ]
  },
  {
   "cell_type": "code",
   "execution_count": 38,
   "metadata": {
    "ExecuteTime": {
     "end_time": "2020-02-12T21:23:07.766908Z",
     "start_time": "2020-02-12T21:23:07.759302Z"
    },
    "hidden": true
   },
   "outputs": [
    {
     "data": {
      "text/plain": [
       "20"
      ]
     },
     "execution_count": 38,
     "metadata": {},
     "output_type": "execute_result"
    }
   ],
   "source": [
    "batch_data.size(0)"
   ]
  },
  {
   "cell_type": "code",
   "execution_count": 39,
   "metadata": {
    "ExecuteTime": {
     "end_time": "2020-02-12T21:23:12.188504Z",
     "start_time": "2020-02-12T21:23:12.182470Z"
    },
    "hidden": true
   },
   "outputs": [
    {
     "data": {
      "text/plain": [
       "60000"
      ]
     },
     "execution_count": 39,
     "metadata": {},
     "output_type": "execute_result"
    }
   ],
   "source": [
    "len(train_loader.dataset)"
   ]
  },
  {
   "cell_type": "code",
   "execution_count": 103,
   "metadata": {
    "ExecuteTime": {
     "end_time": "2020-02-12T23:02:09.209977Z",
     "start_time": "2020-02-12T23:02:09.179940Z"
    },
    "hidden": true
   },
   "outputs": [
    {
     "data": {
      "text/plain": [
       "600"
      ]
     },
     "execution_count": 103,
     "metadata": {},
     "output_type": "execute_result"
    }
   ],
   "source": [
    "Validation_Batches = len(valid_loader)\n",
    "Validation_Batches"
   ]
  },
  {
   "cell_type": "markdown",
   "metadata": {},
   "source": [
    "## Simple Neural Network as Baseline"
   ]
  },
  {
   "cell_type": "markdown",
   "metadata": {
    "heading_collapsed": true
   },
   "source": [
    "### Create Neural Net Model"
   ]
  },
  {
   "cell_type": "code",
   "execution_count": 7,
   "metadata": {
    "ExecuteTime": {
     "end_time": "2020-02-13T08:54:12.380364Z",
     "start_time": "2020-02-13T08:54:12.364340Z"
    },
    "hidden": true
   },
   "outputs": [],
   "source": [
    "%reload_ext autoreload\n",
    "from model import FullyConnectedNet\n",
    "from TrainValidTest import TrainValidNeuralNet"
   ]
  },
  {
   "cell_type": "code",
   "execution_count": 8,
   "metadata": {
    "ExecuteTime": {
     "end_time": "2020-02-13T08:54:13.171246Z",
     "start_time": "2020-02-13T08:54:13.148764Z"
    },
    "hidden": true
   },
   "outputs": [
    {
     "name": "stdout",
     "output_type": "stream",
     "text": [
      "FullyConnectedNet(\n",
      "  (fc1): Linear(in_features=784, out_features=512, bias=True)\n",
      "  (fc2): Linear(in_features=512, out_features=256, bias=True)\n",
      "  (fc3): Linear(in_features=256, out_features=128, bias=True)\n",
      "  (fc4): Linear(in_features=128, out_features=64, bias=True)\n",
      "  (fc5): Linear(in_features=64, out_features=10, bias=True)\n",
      "  (dropout): Dropout(p=0.2, inplace=False)\n",
      ")\n"
     ]
    }
   ],
   "source": [
    "# initialize the NN\n",
    "model = FullyConnectedNet()\n",
    "print(model)"
   ]
  },
  {
   "cell_type": "markdown",
   "metadata": {
    "heading_collapsed": true
   },
   "source": [
    "### Train & Evaluate Neural Network"
   ]
  },
  {
   "cell_type": "code",
   "execution_count": 9,
   "metadata": {
    "ExecuteTime": {
     "end_time": "2020-02-13T08:57:45.322587Z",
     "start_time": "2020-02-13T08:54:28.446353Z"
    },
    "hidden": true,
    "scrolled": false
   },
   "outputs": [
    {
     "name": "stdout",
     "output_type": "stream",
     "text": [
      "Epoch: 1/30..  Avg. Training Loss: 2.080..  Avg. Validation Loss: 1.124.. \n",
      "Epoch: 2/30..  Avg. Training Loss: 0.571..  Avg. Validation Loss: 0.362.. \n",
      "Epoch: 3/30..  Avg. Training Loss: 0.295..  Avg. Validation Loss: 0.238.. \n",
      "Epoch: 4/30..  Avg. Training Loss: 0.201..  Avg. Validation Loss: 0.180.. \n",
      "Epoch: 5/30..  Avg. Training Loss: 0.149..  Avg. Validation Loss: 0.144.. \n",
      "Epoch: 6/30..  Avg. Training Loss: 0.119..  Avg. Validation Loss: 0.121.. \n",
      "Epoch: 7/30..  Avg. Training Loss: 0.097..  Avg. Validation Loss: 0.115.. \n",
      "Epoch: 8/30..  Avg. Training Loss: 0.081..  Avg. Validation Loss: 0.121.. \n",
      "Epoch: 9/30..  Avg. Training Loss: 0.068..  Avg. Validation Loss: 0.103.. \n",
      "Epoch: 10/30..  Avg. Training Loss: 0.057..  Avg. Validation Loss: 0.099.. \n",
      "Epoch: 11/30..  Avg. Training Loss: 0.048..  Avg. Validation Loss: 0.105.. \n",
      "Epoch: 12/30..  Avg. Training Loss: 0.042..  Avg. Validation Loss: 0.097.. \n",
      "Epoch: 13/30..  Avg. Training Loss: 0.033..  Avg. Validation Loss: 0.103.. \n",
      "Epoch: 14/30..  Avg. Training Loss: 0.029..  Avg. Validation Loss: 0.089.. \n",
      "Epoch: 15/30..  Avg. Training Loss: 0.024..  Avg. Validation Loss: 0.109.. \n",
      "Epoch: 16/30..  Avg. Training Loss: 0.019..  Avg. Validation Loss: 0.091.. \n",
      "Epoch: 17/30..  Avg. Training Loss: 0.015..  Avg. Validation Loss: 0.094.. \n",
      "Epoch: 18/30..  Avg. Training Loss: 0.013..  Avg. Validation Loss: 0.098.. \n",
      "Epoch: 19/30..  Avg. Training Loss: 0.009..  Avg. Validation Loss: 0.096.. \n",
      "Epoch: 20/30..  Avg. Training Loss: 0.007..  Avg. Validation Loss: 0.099.. \n",
      "Epoch: 21/30..  Avg. Training Loss: 0.005..  Avg. Validation Loss: 0.099.. \n",
      "Epoch: 22/30..  Avg. Training Loss: 0.004..  Avg. Validation Loss: 0.107.. \n",
      "Epoch: 23/30..  Avg. Training Loss: 0.003..  Avg. Validation Loss: 0.102.. \n",
      "Epoch: 24/30..  Avg. Training Loss: 0.003..  Avg. Validation Loss: 0.100.. \n",
      "Epoch: 25/30..  Avg. Training Loss: 0.002..  Avg. Validation Loss: 0.107.. \n",
      "Epoch: 26/30..  Avg. Training Loss: 0.002..  Avg. Validation Loss: 0.103.. \n",
      "Epoch: 27/30..  Avg. Training Loss: 0.001..  Avg. Validation Loss: 0.105.. \n",
      "Epoch: 28/30..  Avg. Training Loss: 0.001..  Avg. Validation Loss: 0.107.. \n",
      "Epoch: 29/30..  Avg. Training Loss: 0.001..  Avg. Validation Loss: 0.107.. \n",
      "Epoch: 30/30..  Avg. Training Loss: 0.001..  Avg. Validation Loss: 0.107.. \n"
     ]
    }
   ],
   "source": [
    "epoch_train_losses, epoch_eval_losses = [], []\n",
    "epoch_train_losses, epoch_eval_losses = TrainValidNeuralNet(model, train_loader, valid_loader, 30)"
   ]
  },
  {
   "cell_type": "markdown",
   "metadata": {
    "hidden": true
   },
   "source": [
    "__Save de Model__"
   ]
  },
  {
   "cell_type": "code",
   "execution_count": 14,
   "metadata": {
    "ExecuteTime": {
     "end_time": "2020-02-13T09:04:39.528115Z",
     "start_time": "2020-02-13T09:04:39.482605Z"
    },
    "hidden": true
   },
   "outputs": [],
   "source": [
    "torch.save(model.state_dict(), 'model.pt')"
   ]
  },
  {
   "cell_type": "markdown",
   "metadata": {},
   "source": [
    "### Plot Training and Validation Loss"
   ]
  },
  {
   "cell_type": "code",
   "execution_count": 10,
   "metadata": {
    "ExecuteTime": {
     "end_time": "2020-02-13T08:57:49.149775Z",
     "start_time": "2020-02-13T08:57:49.133292Z"
    }
   },
   "outputs": [],
   "source": [
    "%matplotlib inline\n",
    "import matplotlib.pyplot as plt"
   ]
  },
  {
   "cell_type": "code",
   "execution_count": 11,
   "metadata": {
    "ExecuteTime": {
     "end_time": "2020-02-13T09:04:49.103458Z",
     "start_time": "2020-02-13T09:04:48.978748Z"
    }
   },
   "outputs": [
    {
     "data": {
      "image/png": "[encoded data removed]",
      "text/plain": [
       "<Figure size 432x288 with 1 Axes>"
      ]
     },
     "metadata": {
      "needs_background": "light"
     },
     "output_type": "display_data"
    }
   ],
   "source": [
    "plt.plot(epoch_train_losses, label='Training loss')\n",
    "plt.plot(epoch_eval_losses, label='Validation loss')\n",
    "plt.legend(frameon=False)\n",
    "plt.show()"
   ]
  },
  {
   "cell_type": "markdown",
   "metadata": {},
   "source": [
    "## Simple Neural Network with Dropout (MCD)"
   ]
  },
  {
   "cell_type": "markdown",
   "metadata": {
    "heading_collapsed": true
   },
   "source": [
    "### Create Neural Network"
   ]
  },
  {
   "cell_type": "code",
   "execution_count": 7,
   "metadata": {
    "hidden": true
   },
   "outputs": [],
   "source": [
    "%reload_ext autoreload\n",
    "from model import FullyConnectedNetDropOut\n",
    "from TrainValidTest import TrainValidNeuralNet"
   ]
  },
  {
   "cell_type": "code",
   "execution_count": 9,
   "metadata": {
    "hidden": true
   },
   "outputs": [
    {
     "name": "stdout",
     "output_type": "stream",
     "text": [
      "FullyConnectedNetDropOut(\n",
      "  (fc1): Linear(in_features=784, out_features=512, bias=True)\n",
      "  (fc2): Linear(in_features=512, out_features=256, bias=True)\n",
      "  (fc3): Linear(in_features=256, out_features=128, bias=True)\n",
      "  (fc4): Linear(in_features=128, out_features=64, bias=True)\n",
      "  (fc5): Linear(in_features=64, out_features=10, bias=True)\n",
      "  (dropout_02): Dropout(p=0.2, inplace=False)\n",
      "  (dropout_04): Dropout(p=0.4, inplace=False)\n",
      ")\n"
     ]
    }
   ],
   "source": [
    "# initialize the NN\n",
    "model_dropout = FullyConnectedNetDropOut()\n",
    "print(model)"
   ]
  },
  {
   "cell_type": "markdown",
   "metadata": {},
   "source": [
    "### Train & Evaluate Neural Network"
   ]
  },
  {
   "cell_type": "code",
   "execution_count": 10,
   "metadata": {
    "scrolled": true
   },
   "outputs": [
    {
     "name": "stdout",
     "output_type": "stream",
     "text": [
      "Epoch: 1/30..  Avg. Training Loss: 2.115..  Avg. Validation Loss: 1.141.. \n",
      "Epoch: 2/30..  Avg. Training Loss: 0.738..  Avg. Validation Loss: 0.394.. \n",
      "Epoch: 3/30..  Avg. Training Loss: 0.409..  Avg. Validation Loss: 0.252.. \n",
      "Epoch: 4/30..  Avg. Training Loss: 0.283..  Avg. Validation Loss: 0.189.. \n",
      "Epoch: 5/30..  Avg. Training Loss: 0.218..  Avg. Validation Loss: 0.152.. \n",
      "Epoch: 6/30..  Avg. Training Loss: 0.173..  Avg. Validation Loss: 0.132.. \n",
      "Epoch: 7/30..  Avg. Training Loss: 0.146..  Avg. Validation Loss: 0.115.. \n",
      "Epoch: 8/30..  Avg. Training Loss: 0.125..  Avg. Validation Loss: 0.107.. \n",
      "Epoch: 9/30..  Avg. Training Loss: 0.109..  Avg. Validation Loss: 0.097.. \n",
      "Epoch: 10/30..  Avg. Training Loss: 0.097..  Avg. Validation Loss: 0.092.. \n",
      "Epoch: 11/30..  Avg. Training Loss: 0.085..  Avg. Validation Loss: 0.083.. \n",
      "Epoch: 12/30..  Avg. Training Loss: 0.077..  Avg. Validation Loss: 0.083.. \n",
      "Epoch: 13/30..  Avg. Training Loss: 0.069..  Avg. Validation Loss: 0.080.. \n",
      "Epoch: 14/30..  Avg. Training Loss: 0.063..  Avg. Validation Loss: 0.083.. \n",
      "Epoch: 15/30..  Avg. Training Loss: 0.058..  Avg. Validation Loss: 0.075.. \n",
      "Epoch: 16/30..  Avg. Training Loss: 0.050..  Avg. Validation Loss: 0.074.. \n",
      "Epoch: 17/30..  Avg. Training Loss: 0.048..  Avg. Validation Loss: 0.070.. \n",
      "Epoch: 18/30..  Avg. Training Loss: 0.042..  Avg. Validation Loss: 0.077.. \n",
      "Epoch: 19/30..  Avg. Training Loss: 0.040..  Avg. Validation Loss: 0.076.. \n",
      "Epoch: 20/30..  Avg. Training Loss: 0.038..  Avg. Validation Loss: 0.075.. \n",
      "Epoch: 21/30..  Avg. Training Loss: 0.035..  Avg. Validation Loss: 0.078.. \n",
      "Epoch: 22/30..  Avg. Training Loss: 0.031..  Avg. Validation Loss: 0.075.. \n",
      "Epoch: 23/30..  Avg. Training Loss: 0.029..  Avg. Validation Loss: 0.076.. \n",
      "Epoch: 24/30..  Avg. Training Loss: 0.029..  Avg. Validation Loss: 0.076.. \n",
      "Epoch: 25/30..  Avg. Training Loss: 0.025..  Avg. Validation Loss: 0.070.. \n",
      "Epoch: 26/30..  Avg. Training Loss: 0.024..  Avg. Validation Loss: 0.073.. \n",
      "Epoch: 27/30..  Avg. Training Loss: 0.023..  Avg. Validation Loss: 0.078.. \n",
      "Epoch: 28/30..  Avg. Training Loss: 0.022..  Avg. Validation Loss: 0.075.. \n",
      "Epoch: 29/30..  Avg. Training Loss: 0.020..  Avg. Validation Loss: 0.073.. \n",
      "Epoch: 30/30..  Avg. Training Loss: 0.019..  Avg. Validation Loss: 0.085.. \n"
     ]
    }
   ],
   "source": [
    "epoch_train_losses, epoch_eval_losses = [], []\n",
    "epoch_train_losses, epoch_eval_losses = TrainValidNeuralNet(model_dropout, train_loader, valid_loader, 30)"
   ]
  },
  {
   "cell_type": "markdown",
   "metadata": {},
   "source": [
    "__Save the model__"
   ]
  },
  {
   "cell_type": "code",
   "execution_count": 11,
   "metadata": {},
   "outputs": [],
   "source": [
    "torch.save(model.state_dict(), 'model-dropout.pt')"
   ]
  },
  {
   "cell_type": "markdown",
   "metadata": {},
   "source": [
    "### Plot Training and Validation Loss"
   ]
  },
  {
   "cell_type": "code",
   "execution_count": 12,
   "metadata": {},
   "outputs": [],
   "source": [
    "%matplotlib inline\n",
    "import matplotlib.pyplot as plt"
   ]
  },
  {
   "cell_type": "code",
   "execution_count": 13,
   "metadata": {},
   "outputs": [
    {
     "data": {
      "image/png": "[encoded data removed]",
      "text/plain": [
       "<Figure size 432x288 with 1 Axes>"
      ]
     },
     "metadata": {
      "needs_background": "light"
     },
     "output_type": "display_data"
    }
   ],
   "source": [
    "plt.plot(epoch_train_losses, label='Training loss')\n",
    "plt.plot(epoch_eval_losses, label='Validation loss')\n",
    "plt.legend(frameon=False)\n",
    "plt.show()"
   ]
  },
  {
   "cell_type": "markdown",
   "metadata": {},
   "source": [
    "## Model Test and Compare"
   ]
  },
  {
   "cell_type": "code",
   "execution_count": 26,
   "metadata": {},
   "outputs": [
    {
     "data": {
      "text/plain": [
       "device(type='cpu')"
      ]
     },
     "execution_count": 26,
     "metadata": {},
     "output_type": "execute_result"
    }
   ],
   "source": [
    "device = torch.device('cuda' if torch.cuda.is_available() else 'cpu')\n",
    "device"
   ]
  },
  {
   "cell_type": "code",
   "execution_count": 22,
   "metadata": {},
   "outputs": [],
   "source": [
    "# create iterator\n",
    "dataiter = iter(test_loader)\n",
    "# Get batch samples and labels\n",
    "batch_images, batch_labels = dataiter.next()\n",
    "\n",
    "batch_images_samples = batch_images.to(device)\n",
    "batch_labels_samples = batch_labels.to(device)"
   ]
  },
  {
   "cell_type": "markdown",
   "metadata": {},
   "source": [
    "### Test Model without MCD"
   ]
  },
  {
   "cell_type": "code",
   "execution_count": 25,
   "metadata": {},
   "outputs": [
    {
     "data": {
      "image/png": "[encoded data removed]",
      "text/plain": [
       "<Figure size 1800x288 with 20 Axes>"
      ]
     },
     "metadata": {},
     "output_type": "display_data"
    }
   ],
   "source": [
    "# get sample outputs\n",
    "output = model_dropout(batch_images_samples)\n",
    "# convert output probabilities to predicted class,\n",
    "# get argmax\n",
    "_, preds = torch.max(output, 1)\n",
    "# prep images for display\n",
    "images = batch_images.numpy()\n",
    "\n",
    "# plot the images in the batch, along with predicted and true labels\n",
    "fig = plt.figure(figsize=(25, 4))\n",
    "for idx in np.arange(20):\n",
    "    ax = fig.add_subplot(2, 20/2, idx+1, xticks=[], yticks=[])\n",
    "    ax.imshow(np.squeeze(images[idx]), cmap='gray')\n",
    "    ax.set_title(\"{} ({})\".format(str(preds[idx].item()), str(batch_labels[idx].item())),\n",
    "                 color=(\"green\" if preds[idx]==batch_labels[idx] else \"red\"))"
   ]
  },
  {
   "cell_type": "markdown",
   "metadata": {},
   "source": [
    "### Test Model with MCD"
   ]
  },
  {
   "cell_type": "markdown",
   "metadata": {},
   "source": [
    "__Enable dropout during testing__"
   ]
  },
  {
   "cell_type": "code",
   "execution_count": 35,
   "metadata": {},
   "outputs": [],
   "source": [
    "def apply_dropout(m):\n",
    "    if type(m) == nn.Dropout:\n",
    "        m.train()"
   ]
  },
  {
   "cell_type": "code",
   "execution_count": 36,
   "metadata": {},
   "outputs": [
    {
     "data": {
      "text/plain": [
       "FullyConnectedNetDropOut(\n",
       "  (fc1): Linear(in_features=784, out_features=512, bias=True)\n",
       "  (fc2): Linear(in_features=512, out_features=256, bias=True)\n",
       "  (fc3): Linear(in_features=256, out_features=128, bias=True)\n",
       "  (fc4): Linear(in_features=128, out_features=64, bias=True)\n",
       "  (fc5): Linear(in_features=64, out_features=10, bias=True)\n",
       "  (dropout_02): Dropout(p=0.2, inplace=False)\n",
       "  (dropout_04): Dropout(p=0.4, inplace=False)\n",
       ")"
      ]
     },
     "execution_count": 36,
     "metadata": {},
     "output_type": "execute_result"
    }
   ],
   "source": [
    "# Apply dropout on testing \n",
    "model_dropout.apply(apply_dropout)"
   ]
  },
  {
   "cell_type": "markdown",
   "metadata": {},
   "source": [
    "__Define the Number of Stochastic Forward passes for each input sample__"
   ]
  },
  {
   "cell_type": "code",
   "execution_count": 182,
   "metadata": {},
   "outputs": [],
   "source": [
    "# Nro of Forward passes\n",
    "T = 20\n",
    "predictions = []"
   ]
  },
  {
   "cell_type": "markdown",
   "metadata": {},
   "source": [
    "#### Input Sample with Correct Prediction"
   ]
  },
  {
   "cell_type": "markdown",
   "metadata": {},
   "source": [
    "__Use the same batch__\n",
    "\n",
    "Use image[0] from batch, which has label \"7\""
   ]
  },
  {
   "cell_type": "code",
   "execution_count": 38,
   "metadata": {},
   "outputs": [
    {
     "data": {
      "image/png": "[encoded data removed]",
      "text/plain": [
       "<Figure size 432x288 with 1 Axes>"
      ]
     },
     "metadata": {
      "needs_background": "light"
     },
     "output_type": "display_data"
    }
   ],
   "source": [
    "batch_image_sample = batch_images[0].to(device)\n",
    "batch_label_sample = batch_labels[0].to(device)\n",
    "# Plot one sample of the batch\n",
    "img = np.array(batch_image_sample, dtype='float')\n",
    "img = img.reshape((28, 28))\n",
    "\n",
    "plt.imshow(img, cmap='gray')\n",
    "plt.show()"
   ]
  },
  {
   "cell_type": "markdown",
   "metadata": {},
   "source": [
    "__Run 20 Stochastic Forward Passes__"
   ]
  },
  {
   "cell_type": "code",
   "execution_count": 187,
   "metadata": {},
   "outputs": [
    {
     "data": {
      "text/plain": [
       "[7, 7, 7, 7, 7, 7, 7, 7, 7, 7, 7, 7, 7, 7, 7, 7, 7, 7, 7, 7]"
      ]
     },
     "execution_count": 187,
     "metadata": {},
     "output_type": "execute_result"
    }
   ],
   "source": [
    "predictions = [np.exp(model_dropout(batch_images[0]).detach().numpy()).argmax() for t in range(T)]\n",
    "predictions"
   ]
  },
  {
   "cell_type": "code",
   "execution_count": 192,
   "metadata": {},
   "outputs": [
    {
     "data": {
      "image/png": "[encoded data removed]",
      "text/plain": [
       "<Figure size 432x288 with 1 Axes>"
      ]
     },
     "metadata": {
      "needs_background": "light"
     },
     "output_type": "display_data"
    }
   ],
   "source": [
    "# Plot predictions histogram\n",
    "bins = [0, 1, 2, 3, 4, 5, 6, 7, 8, 9]\n",
    "plt.hist(predictions, range=(0,10), align='left', density=True)\n",
    "plt.xticks(bins)\n",
    "plt.show()"
   ]
  },
  {
   "cell_type": "code",
   "execution_count": 193,
   "metadata": {},
   "outputs": [
    {
     "data": {
      "text/plain": [
       "(array([0., 0., 0., 0., 0., 0., 0., 1., 0., 0.]),\n",
       " array([ 0.,  1.,  2.,  3.,  4.,  5.,  6.,  7.,  8.,  9., 10.]))"
      ]
     },
     "execution_count": 193,
     "metadata": {},
     "output_type": "execute_result"
    }
   ],
   "source": [
    "counts, bins = np.histogram(predictions, bins=10, range=(0,10), density=True)\n",
    "counts, bins"
   ]
  },
  {
   "cell_type": "markdown",
   "metadata": {
    "heading_collapsed": true
   },
   "source": [
    "#### Input Sample with Wrong Prediction"
   ]
  },
  {
   "cell_type": "markdown",
   "metadata": {
    "hidden": true
   },
   "source": [
    "Use the same batch\n",
    "\n",
    "Use image[8] from batch, which has label \"5\" but was misclassified as \"6\""
   ]
  },
  {
   "cell_type": "code",
   "execution_count": 238,
   "metadata": {
    "hidden": true
   },
   "outputs": [
    {
     "data": {
      "image/png": "[encoded data removed]",
      "text/plain": [
       "<Figure size 432x288 with 1 Axes>"
      ]
     },
     "metadata": {
      "needs_background": "light"
     },
     "output_type": "display_data"
    }
   ],
   "source": [
    "batch_image_sample_8 = batch_images[8].to(device)\n",
    "batch_label_sample_8 = batch_labels[8].to(device)\n",
    "# Plot one sample of the batch\n",
    "img = np.array(batch_image_sample_8, dtype='float')\n",
    "img = img.reshape((28, 28))\n",
    "\n",
    "plt.imshow(img, cmap='gray')\n",
    "plt.show()"
   ]
  },
  {
   "cell_type": "markdown",
   "metadata": {
    "hidden": true
   },
   "source": [
    "__Run 20 Stochastic Forward Passes__"
   ]
  },
  {
   "cell_type": "code",
   "execution_count": 196,
   "metadata": {
    "hidden": true
   },
   "outputs": [
    {
     "data": {
      "text/plain": [
       "[6, 6, 6, 6, 6, 5, 5, 5, 6, 4, 6, 6, 6, 6, 5, 5, 6, 6, 6, 6]"
      ]
     },
     "execution_count": 196,
     "metadata": {},
     "output_type": "execute_result"
    }
   ],
   "source": [
    "predictions = [np.exp(model_dropout(batch_images[8]).detach().numpy()).argmax() for t in range(T)]\n",
    "predictions"
   ]
  },
  {
   "cell_type": "markdown",
   "metadata": {
    "hidden": true
   },
   "source": [
    "__Plot Predictions Histogram__"
   ]
  },
  {
   "cell_type": "code",
   "execution_count": 197,
   "metadata": {
    "hidden": true,
    "scrolled": true
   },
   "outputs": [
    {
     "data": {
      "image/png": "[encoded data removed]",
      "text/plain": [
       "<Figure size 432x288 with 1 Axes>"
      ]
     },
     "metadata": {
      "needs_background": "light"
     },
     "output_type": "display_data"
    }
   ],
   "source": [
    "# Plot predictions histogram\n",
    "bins = [0, 1, 2, 3, 4, 5, 6, 7, 8, 9]\n",
    "plt.hist(predictions, range=(0,10), align='left', density=True)\n",
    "plt.xticks(bins)\n",
    "plt.show()"
   ]
  },
  {
   "cell_type": "markdown",
   "metadata": {
    "hidden": true
   },
   "source": [
    "The Neural Net gets confused between labels \"4\" and \"6\""
   ]
  },
  {
   "cell_type": "markdown",
   "metadata": {},
   "source": [
    "#### Input Sample that is Intentionally Out-Of-Distribution (ODD)"
   ]
  },
  {
   "cell_type": "markdown",
   "metadata": {},
   "source": [
    "__Use the same batch__\n",
    "\n",
    "Use image[0] from batch, which has label \"7\" but this time perform the __transpose__ on that image\n",
    "\n",
    "This operation allows to input an unknown sample to the model (i.e. transposed sample with \"7\" label)."
   ]
  },
  {
   "cell_type": "code",
   "execution_count": 285,
   "metadata": {},
   "outputs": [
    {
     "data": {
      "image/png": "[encoded data removed]",
      "text/plain": [
       "<Figure size 432x288 with 1 Axes>"
      ]
     },
     "metadata": {
      "needs_background": "light"
     },
     "output_type": "display_data"
    }
   ],
   "source": [
    "batch_images_samples = batch_images.to(device)\n",
    "batch_labels_samples = batch_labels.to(device)\n",
    "# Plot one sample of the batch\n",
    "#Get sample transpose\n",
    "batch_image_sample_0_T = batch_image_sample_0.T\n",
    "# Plot one sample of the batch\n",
    "img = np.array(batch_image_sample_0_T, dtype='float')\n",
    "img = img.reshape((28, 28))\n",
    "\n",
    "plt.imshow(img, cmap='gray')\n",
    "plt.show()"
   ]
  },
  {
   "cell_type": "markdown",
   "metadata": {},
   "source": [
    "__Run 20 Stochastic Forward Passes__"
   ]
  },
  {
   "cell_type": "markdown",
   "metadata": {},
   "source": [
    "Fix tensor dimensions and turn tensor into contiguous after transpose operation\n",
    "[Contigious vs non-contigious tensor](https://discuss.pytorch.org/t/contigious-vs-non-contigious-tensor/30107)"
   ]
  },
  {
   "cell_type": "code",
   "execution_count": 308,
   "metadata": {},
   "outputs": [],
   "source": [
    "#Get sample transpose\n",
    "imageTransposed = batch_images[0].T.contiguous()\n",
    "imageTransposed = imageTransposed.to(device)"
   ]
  },
  {
   "cell_type": "code",
   "execution_count": 309,
   "metadata": {},
   "outputs": [
    {
     "data": {
      "text/plain": [
       "[6, 6, 6, 6, 6, 6, 6, 6, 6, 6, 6, 6, 6, 6, 6, 6, 6, 6, 6, 6]"
      ]
     },
     "execution_count": 309,
     "metadata": {},
     "output_type": "execute_result"
    }
   ],
   "source": [
    "predictions = [np.exp(model_dropout(imageTransposed).detach().numpy()).argmax() for t in range(T)]\n",
    "predictions"
   ]
  },
  {
   "cell_type": "markdown",
   "metadata": {},
   "source": [
    "__Plot Predictions Histogram__"
   ]
  },
  {
   "cell_type": "code",
   "execution_count": 310,
   "metadata": {},
   "outputs": [
    {
     "data": {
      "image/png": "[encoded data removed]",
      "text/plain": [
       "<Figure size 432x288 with 1 Axes>"
      ]
     },
     "metadata": {
      "needs_background": "light"
     },
     "output_type": "display_data"
    }
   ],
   "source": [
    "# Plot predictions histogram\n",
    "bins = [0, 1, 2, 3, 4, 5, 6, 7, 8, 9]\n",
    "plt.hist(predictions, range=(0,10), align='left', density=True)\n",
    "plt.xticks(bins)\n",
    "plt.show()"
   ]
  },
  {
   "cell_type": "markdown",
   "metadata": {},
   "source": [
    "The neural networks is totally sure that this input (ODD input) is a \"6\"\n",
    "\n",
    "This is very dangerous, the NN is totally confident about something we don't know for sure"
   ]
  },
  {
   "cell_type": "code",
   "execution_count": null,
   "metadata": {},
   "outputs": [],
   "source": []
  }
 ],
 "metadata": {
  "kernelspec": {
   "display_name": "Python 3",
   "language": "python",
   "name": "python3"
  },
  "language_info": {
   "codemirror_mode": {
    "name": "ipython",
    "version": 3
   },
   "file_extension": ".py",
   "mimetype": "text/x-python",
   "name": "python",
   "nbconvert_exporter": "python",
   "pygments_lexer": "ipython3",
   "version": "3.7.6"
  },
  "toc": {
   "base_numbering": 1,
   "nav_menu": {},
   "number_sections": true,
   "sideBar": true,
   "skip_h1_title": false,
   "title_cell": "Table of Contents",
   "title_sidebar": "Contents",
   "toc_cell": false,
   "toc_position": {},
   "toc_section_display": true,
   "toc_window_display": false
  }
 },
 "nbformat": 4,
 "nbformat_minor": 4
}
